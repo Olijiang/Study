{
 "cells": [
  {
   "cell_type": "code",
   "execution_count": 8,
   "metadata": {},
   "outputs": [],
   "source": [
    "import os\n",
    "from PIL import Image\n",
    "import numpy as np\n",
    "\n",
    "path = \"../sample/train/\"\n"
   ]
  },
  {
   "cell_type": "code",
   "execution_count": null,
   "metadata": {},
   "outputs": [],
   "source": [
    "imgs = os.listdir(path)\n",
    "total = len(imgs)\n",
    "print(imgs[0])\n",
    "print(imgs[0].split(\"_\")[1][:-4])\n",
    "imgpath = path+imgs[0]\n",
    "img = Image.open(imgpath)\n",
    "img = np.array(img.convert(\"L\"))\n",
    "img = img/255\n"
   ]
  },
  {
   "cell_type": "code",
   "execution_count": null,
   "metadata": {},
   "outputs": [],
   "source": [
    "\n",
    "x_train = [] #特征\n",
    "y_train = [] #标签\n",
    "x_test = [] #特征\n",
    "y_test = [] #标签\n",
    "\n",
    "#训练集\n",
    "for i in range(int(total*0.95)):\n",
    "    print(\"Loding:\"+imgs[i])\n",
    "    imgpath = path+imgs[i]\n",
    "    img = Image.open(imgpath)\n",
    "    img = np.array(img.convert(\"L\"))\n",
    "    img = img/255\n",
    "    x_train.append(img)\n",
    "    y_train.append(imgs[i].split(\"_\")[1][:-4])\n",
    "#测试集\n",
    "for i in range(int(total*0.95),total):\n",
    "    print(\"Loding:\"+imgs[i])\n",
    "    imgpath = path+imgs[i]\n",
    "    img = Image.open(imgpath)\n",
    "    img = np.array(img.convert(\"L\"))\n",
    "    img = img/255\n",
    "    x_test.append(img)\n",
    "    y_test.append(imgs[i].split(\"_\")[1][:-4])"
   ]
  },
  {
   "cell_type": "code",
   "execution_count": null,
   "metadata": {},
   "outputs": [],
   "source": [
    "x_train[1]"
   ]
  }
 ],
 "metadata": {
  "interpreter": {
   "hash": "865ac8e02b4cdc659259a19c6487c81f8899162c89177a31a86b87262f13f6e8"
  },
  "kernelspec": {
   "display_name": "Python 3.7.12 ('tf2.1')",
   "language": "python",
   "name": "python3"
  },
  "language_info": {
   "codemirror_mode": {
    "name": "ipython",
    "version": 3
   },
   "file_extension": ".py",
   "mimetype": "text/x-python",
   "name": "python",
   "nbconvert_exporter": "python",
   "pygments_lexer": "ipython3",
   "version": "3.7.12"
  },
  "orig_nbformat": 4
 },
 "nbformat": 4,
 "nbformat_minor": 2
}
