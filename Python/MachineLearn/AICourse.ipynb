{
 "cells": [
  {
   "cell_type": "code",
   "execution_count": 1,
   "metadata": {},
   "outputs": [],
   "source": [
    "#导入样本库\n",
    "from emnist import extract_training_samples;"
   ]
  },
  {
   "cell_type": "code",
   "execution_count": null,
   "metadata": {},
   "outputs": [],
   "source": [
    "# x 为图像，y 为标签\n",
    "# 图像size 28*28 灰度0-255\n",
    "x, y = extract_training_samples('letters')\n",
    "# 转换灰度 0-1\n",
    "x = x/255;\n",
    "# 60000训练集和10000个测试集\n",
    "x_train, x_test = x[:60000], x[60000:70000]\n",
    "y_train, y_test = x[:60000], x[60000:70000]\n",
    "\n",
    "x_train = x_train.reshape(60000, 784)\n",
    "y_test = y_test.reshape(60000, 784)\n"
   ]
  }
 ],
 "metadata": {
  "interpreter": {
   "hash": "d07bcfa69b2d03d541a6425ea3ac1863426a0768ea800694dd278c33dc98108d"
  },
  "kernelspec": {
   "display_name": "Python 3.9.7 ('base')",
   "language": "python",
   "name": "python3"
  },
  "language_info": {
   "codemirror_mode": {
    "name": "ipython",
    "version": 3
   },
   "file_extension": ".py",
   "mimetype": "text/x-python",
   "name": "python",
   "nbconvert_exporter": "python",
   "pygments_lexer": "ipython3",
   "version": "3.9.7"
  },
  "orig_nbformat": 4
 },
 "nbformat": 4,
 "nbformat_minor": 2
}
