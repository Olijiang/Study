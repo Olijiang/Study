{
 "cells": [
  {
   "cell_type": "code",
   "execution_count": 3,
   "metadata": {},
   "outputs": [],
   "source": [
    "from PIL import Image\n",
    "path = \"./sample/origin/\"\n",
    "imgs = os.listdir(path)\n",
    "for it in imgs:\n",
    "    imgpath = path+it\n",
    "    img = Image.open(imgpath)\n",
    "    box = (0,0,58,22)\n",
    "    img = img.crop(box)\n",
    "    img.save(\"./sample/source/\"+it)"
   ]
  },
  {
   "cell_type": "code",
   "execution_count": 3,
   "metadata": {},
   "outputs": [],
   "source": [
    "import os\n",
    "from PIL import Image\n",
    "#path = \"./sample/origin/16_08PH.png\"\n",
    "def ImgDeal(path):\n",
    "    img = Image.open(path).convert('L')\n",
    "    threshold=128\n",
    "    width, height = img.size\n",
    "    for w in range(width):\n",
    "        for h in range(height):\n",
    "            if img.getpixel((w, h)) > threshold:\n",
    "                img.putpixel((w, h), 255)\n",
    "            else:\n",
    "                img.putpixel((w, h), 0)\n",
    "    for i in range(3):\n",
    "        for w in range(width-1):\n",
    "            for h in range(height-1):\n",
    "                flag = 0\n",
    "                if img.getpixel((w, h-1))>threshold:flag=flag+1\n",
    "                if img.getpixel((w, h+1))>threshold:flag=flag+1\n",
    "                if img.getpixel((w-1, h))>threshold:flag=flag+1\n",
    "                if img.getpixel((w+1, h))>threshold:flag=flag+1\n",
    "                if i==0:\n",
    "                    if(flag>3):img.putpixel((w, h), 255) #去噪\n",
    "                if i==1:\n",
    "                    if(flag<2):img.putpixel((w, h), 0) #补点\n",
    "                if i==2:\n",
    "                    if(flag>2):img.putpixel((w, h), 255) #再去噪\n",
    "    return img\n",
    "\n",
    "path = \"./sample/origin/\"\n",
    "imgs = os.listdir(path)\n",
    "for it in imgs:\n",
    "    imgpath = path+it\n",
    "    img = ImgDeal(imgpath)\n",
    "    img.save(\"C:\\\\Users\\\\Snion\\\\Desktop\\\\test\\\\\"+it)\n",
    "    \n",
    "\n",
    "#img.show()\n",
    "#img.save(\"C:\\\\Users\\\\Snion\\\\Desktop\\\\test\\\\\"+)"
   ]
  },
  {
   "cell_type": "code",
   "execution_count": null,
   "metadata": {},
   "outputs": [],
   "source": []
  }
 ],
 "metadata": {
  "interpreter": {
   "hash": "d07bcfa69b2d03d541a6425ea3ac1863426a0768ea800694dd278c33dc98108d"
  },
  "kernelspec": {
   "display_name": "Python 3.9.7 ('base')",
   "language": "python",
   "name": "python3"
  },
  "language_info": {
   "codemirror_mode": {
    "name": "ipython",
    "version": 3
   },
   "file_extension": ".py",
   "mimetype": "text/x-python",
   "name": "python",
   "nbconvert_exporter": "python",
   "pygments_lexer": "ipython3",
   "version": "3.9.7"
  },
  "orig_nbformat": 4
 },
 "nbformat": 4,
 "nbformat_minor": 2
}
