{
 "cells": [
  {
   "cell_type": "code",
   "execution_count": 204,
   "metadata": {},
   "outputs": [],
   "source": [
    "from PIL import Image,ImageDraw,ImageFont\n",
    "import random"
   ]
  },
  {
   "cell_type": "code",
   "execution_count": 206,
   "metadata": {},
   "outputs": [],
   "source": [
    "path = \"D:\\\\Study\\\\sample\\\\train\\\\\"\n",
    "n = 0\n",
    "\n",
    "# 随机字母:\n",
    "def rndChar():\n",
    "    return random.choice([chr(random.randint(48, 57)),chr(random.randint(65, 90))])\n",
    "\n",
    "# 随机颜色1:\n",
    "def rndColor():\n",
    "    return (random.randint(64, 255), random.randint(64, 255), random.randint(64, 255))\n",
    "\n",
    "# 随机颜色2:\n",
    "def rndColor2():\n",
    "    return (random.randint(32, 127), random.randint(32, 127), random.randint(32, 127))\n",
    "\n",
    "fillcolor = [\"#00cc99\", \"#33cccc\", \"#663399\", \"#99cc66\",\"#cc9999\", \"#ff66cc\", \"#00cc33\",\"#ccff66\",\"#0099ff\", \"#3366ff\",\"#66ffff\"]\n",
    "fillcolor2 = [\"#9900ff\", \"#6600ff\", \"#3300ff\", \"#0000ff\"]"
   ]
  },
  {
   "cell_type": "code",
   "execution_count": 151,
   "metadata": {},
   "outputs": [],
   "source": [
    "#图片长款\n",
    "width = 30\n",
    "height = 30\n",
    "#img = Image.new(mode=\"RGB\", size=(width, height), color=(rndColor2()))\n",
    "img = Image.new(mode=\"RGB\", size=(width, height), color=\"#ffffff\")\n",
    "#img.show()\n",
    "#创建画笔\n",
    "draw = ImageDraw.Draw(img)\n",
    "#设置字体\n",
    "font = ImageFont.truetype('./font/方正大标宋_GBK.TTF', 18)\n",
    "# 填充每个像素:\n",
    "for x in range(1,width-1):\n",
    "    for y in range(1,height-1):\n",
    "        if(random.choice([0,1,1])):\n",
    "            draw.point((x, y), fill=random.choice(fillcolor))\n",
    "# 输出文字:\n",
    "draw.text((5, 5), rndChar(), font=font, fill=random.choice(fillcolor2))\n",
    "#img.rotate(10).show()\n",
    "img = img.rotate(random.choice([10,-10]))\n",
    "img.crop((3,8,20,25)).show()"
   ]
  },
  {
   "cell_type": "code",
   "execution_count": 210,
   "metadata": {},
   "outputs": [],
   "source": [
    "def gene_vode(path):\n",
    "    global n\n",
    "    #图片长款\n",
    "    width = 60\n",
    "    height = 22\n",
    "    #img = Image.new(mode=\"RGB\", size=(width, height), color=(rndColor2()))\n",
    "    img = Image.new(mode=\"RGB\", size=(width, height), color=\"#ffffff\")\n",
    "    #img.show()\n",
    "    #创建画笔\n",
    "    draw = ImageDraw.Draw(img)\n",
    "    #设置字体\n",
    "    font = ImageFont.truetype('./font/方正大标宋_GBK.TTF', 18)\n",
    "\n",
    "    #边框\n",
    "    for x in range(0,width-1,2):\n",
    "        draw.point((x, 0), fill=random.choice(fillcolor2))\n",
    "        draw.point((x+1, 0), fill=random.choice(fillcolor2))\n",
    "        draw.point((x, height-1), fill=random.choice(fillcolor2))\n",
    "        draw.point((x+1, height-1), fill=random.choice(fillcolor2))\n",
    "    for y in range(0,height-1,2):\n",
    "        draw.point((0, y), fill=random.choice(fillcolor2))\n",
    "        draw.point((0, y+1), fill=random.choice(fillcolor2))\n",
    "        draw.point((width-1, y), fill=random.choice(fillcolor2))\n",
    "        draw.point((width-1, y+1), fill=random.choice(fillcolor2))\n",
    "\n",
    "    # 填充每个像素:\n",
    "    for x in range(1,width-1):\n",
    "        for y in range(1,height-1):\n",
    "            if(random.choice([0,1,1])):\n",
    "                draw.point((x, y), fill=random.choice(fillcolor))\n",
    "    # 输出文字:\n",
    "    label = []\n",
    "    for t in range(4):\n",
    "        label.append(rndChar())\n",
    "        draw.text((14*t+2, 2), label[t], font=font, fill=fillcolor2[t])\n",
    "    '''\n",
    "    #干扰线\n",
    "    begin = (random.randint(5, 10), random.randint(5, 10))\n",
    "    end = (random.randint(width-10, width-5), random.randint(height-10, height-5))\n",
    "    draw.line([begin, end], fill=rndColor(),width=2)\n",
    "    '''\n",
    "    #img.show()\n",
    "    n = n+1\n",
    "    img.save(path + str(n)+ \"_\" +\"\".join(label) +\".png\")\n",
    "\n",
    "\n",
    "\n",
    "for i in range(1000):\n",
    "    gene_vode(path)"
   ]
  },
  {
   "cell_type": "code",
   "execution_count": 196,
   "metadata": {},
   "outputs": [
    {
     "data": {
      "text/plain": [
       "'2M47'"
      ]
     },
     "execution_count": 196,
     "metadata": {},
     "output_type": "execute_result"
    }
   ],
   "source": [
    "\n"
   ]
  },
  {
   "cell_type": "code",
   "execution_count": 191,
   "metadata": {},
   "outputs": [],
   "source": []
  },
  {
   "cell_type": "code",
   "execution_count": 194,
   "metadata": {},
   "outputs": [
    {
     "data": {
      "text/plain": [
       "'9'"
      ]
     },
     "execution_count": 194,
     "metadata": {},
     "output_type": "execute_result"
    }
   ],
   "source": []
  }
 ],
 "metadata": {
  "interpreter": {
   "hash": "865ac8e02b4cdc659259a19c6487c81f8899162c89177a31a86b87262f13f6e8"
  },
  "kernelspec": {
   "display_name": "Python 3.7.12 ('tf2.1')",
   "language": "python",
   "name": "python3"
  },
  "language_info": {
   "codemirror_mode": {
    "name": "ipython",
    "version": 3
   },
   "file_extension": ".py",
   "mimetype": "text/x-python",
   "name": "python",
   "nbconvert_exporter": "python",
   "pygments_lexer": "ipython3",
   "version": "3.7.12"
  },
  "orig_nbformat": 4
 },
 "nbformat": 4,
 "nbformat_minor": 2
}
