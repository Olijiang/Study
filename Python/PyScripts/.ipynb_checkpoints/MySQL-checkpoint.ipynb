{
 "cells": [
  {
   "cell_type": "code",
   "execution_count": 9,
   "id": "59d28b73",
   "metadata": {},
   "outputs": [],
   "source": [
    "import pymysql\n",
    "host = 'localhost'\n",
    "port = 3306\n",
    "db = 'mydata'\n",
    "user = 'root'\n",
    "password = ''"
   ]
  },
  {
   "cell_type": "code",
   "execution_count": null,
   "id": "94690308",
   "metadata": {},
   "outputs": [],
   "source": [
    "'''\n",
    "create table students(\n",
    "    id int unsigned not null primary key,\n",
    "    name varchar(10) not null,\n",
    "    pwd varchar(10) not null,\n",
    "    age tinyint unsigned not null,\n",
    "    sex enum(\"M\", \"F\")default \"F\",\n",
    "    C1 int unsigned not null,\n",
    "    C2 int unsigned not null,\n",
    "    C3 int unsigned not null\n",
    "    )DEFAULT CHARSET=utf8;\n",
    "// AUTO_INCREMENT=1000 自增从1000开始\n",
    "insert into students values\n",
    "    ( 1000, \"QingHe\", \"123456\", 18, 'F', 99,98,97), \n",
    "    (1001, \"HuangJing\",\"123456\", 18, 'F', 98,95,100);\n",
    "'''"
   ]
  },
  {
   "cell_type": "code",
   "execution_count": 27,
   "id": "acba8aca",
   "metadata": {},
   "outputs": [
    {
     "name": "stdout",
     "output_type": "stream",
     "text": [
      "id \t name \t\t pwd \t\t age \t sex \t C1 \t C2 \t C3\n",
      "1000 \t QingHe \t 123456 \t 18 \t F \t 99 \t 98 \t 97\n",
      "1001 \t HuangJing \t 123456 \t 18 \t F \t 98 \t 95 \t 100\n"
     ]
    }
   ],
   "source": [
    "# ---- 用pymysql 操作数据库\n",
    "def check_it():\n",
    "    conn = pymysql.connect(host=host, port=port, db=db, user=user, password=password)\n",
    "    # 使用 cursor() 方法创建一个 dict 格式的游标对象 cursor\n",
    "    cursor = conn.cursor(pymysql.cursors.DictCursor)\n",
    "    # 使用 execute()  方法执行 SQL 查询\n",
    "    cursor.execute(\"select * from students\")\n",
    "    # 使用 fetchone() 方法获取单条数据.\n",
    "    data_list = cursor.fetchall()\n",
    "    print(\"id \\t name \\t\\t pwd \\t\\t age \\t sex \\t C1 \\t C2 \\t C3\")\n",
    "    for obj in data_list:\n",
    "        print(\"%d \\t %s \\t %s \\t %d \\t %c \\t %d \\t %d \\t %d\" %(obj['id'], obj['name'], obj['pwd'], obj['age'], obj['sex'], obj['C1'], obj['C2'], obj['C3']))\n",
    "    # 关闭数据库连接\n",
    "    cursor.close()\n",
    "    conn.close()\n",
    "\n",
    "if __name__ == '__main__':\n",
    "    check_it()"
   ]
  },
  {
   "cell_type": "code",
   "execution_count": null,
   "id": "c06e39d0",
   "metadata": {},
   "outputs": [],
   "source": []
  }
 ],
 "metadata": {
  "kernelspec": {
   "display_name": "Python 3 (ipykernel)",
   "language": "python",
   "name": "python3"
  },
  "language_info": {
   "codemirror_mode": {
    "name": "ipython",
    "version": 3
   },
   "file_extension": ".py",
   "mimetype": "text/x-python",
   "name": "python",
   "nbconvert_exporter": "python",
   "pygments_lexer": "ipython3",
   "version": "3.9.7"
  }
 },
 "nbformat": 4,
 "nbformat_minor": 5
}
