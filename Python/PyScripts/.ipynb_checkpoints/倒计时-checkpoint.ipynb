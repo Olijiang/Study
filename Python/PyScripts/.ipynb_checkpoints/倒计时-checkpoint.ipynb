{
 "cells": [
  {
   "cell_type": "code",
   "execution_count": 39,
   "id": "fd55ef56",
   "metadata": {},
   "outputs": [],
   "source": [
    "import datetime, time, turtle"
   ]
  },
  {
   "cell_type": "code",
   "execution_count": 18,
   "id": "15845604",
   "metadata": {},
   "outputs": [],
   "source": [
    "def init():\n",
    "    turtle.setup(1200,800,450,150) #设置画布大小 1200 8200 为屏幕位置\n",
    "    turtle.speed(10)\n",
    "    turtle.penup()\n",
    "    turtle.pensize(15)\n",
    "    turtle.pencolor('blue')\n",
    "    turtle.hideturtle() \n",
    "    turtle.tracer(False)\n",
    "    turtle.goto(-450,150)\n",
    "start = time.perf_counter()\n",
    "def reset():\n",
    "    turtle.clear()\n",
    "    turtle.penup()\n",
    "    turtle.goto(-450,150)\n",
    "def DrawNumber(i):\n",
    "    if i in [2,3,5,6,8,9,0]: turtle.pendown()\n",
    "    else:turtle.penup()\n",
    "    turtle.seth(0)\n",
    "    turtle.fd(100)\n",
    "    \n",
    "    if i in [2,3,4,7,8,9,0]: turtle.pendown()\n",
    "    else:turtle.penup()\n",
    "    turtle.seth(-90)\n",
    "    turtle.fd(100)\n",
    "    \n",
    "    if i in [3,4,5,6,7,8,9,0]: turtle.pendown()\n",
    "    else:turtle.penup()\n",
    "    turtle.fd(100)\n",
    "    \n",
    "    if i in [2,3,5,6,8,9,0]: turtle.pendown()\n",
    "    else:turtle.penup()\n",
    "    turtle.seth(-180)\n",
    "    turtle.fd(100)\n",
    "    \n",
    "    if i in [1,2,6,8,0]: turtle.pendown()\n",
    "    else:turtle.penup()\n",
    "    turtle.seth(90)\n",
    "    turtle.fd(100)\n",
    "    \n",
    "    if i in [2,3,4,5,6,8,9]: turtle.pendown()\n",
    "    else:turtle.penup()\n",
    "    turtle.seth(0)\n",
    "    turtle.fd(100)\n",
    "    turtle.penup()\n",
    "    turtle.seth(180)\n",
    "    turtle.fd(100)\n",
    "    turtle.pendown()\n",
    "\n",
    "    if i in [1,4,5,6,8,9,0]: turtle.pendown()\n",
    "    else:turtle.penup()\n",
    "    turtle.seth(90)\n",
    "    turtle.fd(100)\n",
    "    turtle.penup()\n",
    "    turtle.seth(0)\n",
    "    turtle.fd(150)\n",
    "    turtle.pendown()\n",
    "\n",
    "def DrawDot():\n",
    "    turtle.penup()\n",
    "    turtle.seth(-90)\n",
    "    turtle.fd(50)\n",
    "    turtle.dot(15)\n",
    "    turtle.fd(100)\n",
    "    turtle.dot(15)\n",
    "    turtle.seth(90)\n",
    "    turtle.fd(150)\n",
    "    turtle.seth(0)\n",
    "    turtle.fd(50)\n"
   ]
  },
  {
   "cell_type": "code",
   "execution_count": 19,
   "id": "f4316cb5",
   "metadata": {},
   "outputs": [],
   "source": []
  },
  {
   "cell_type": "code",
   "execution_count": 20,
   "id": "d431db13",
   "metadata": {},
   "outputs": [],
   "source": [
    "\n"
   ]
  },
  {
   "cell_type": "code",
   "execution_count": 38,
   "id": "7c41c7bd",
   "metadata": {},
   "outputs": [
    {
     "ename": "Terminator",
     "evalue": "",
     "output_type": "error",
     "traceback": [
      "\u001b[1;31m---------------------------------------------------------------------------\u001b[0m",
      "\u001b[1;31mTerminator\u001b[0m                                Traceback (most recent call last)",
      "\u001b[1;32m~\\AppData\\Local\\Temp/ipykernel_17492/3388742132.py\u001b[0m in \u001b[0;36m<module>\u001b[1;34m\u001b[0m\n\u001b[1;32m----> 1\u001b[1;33m \u001b[0minit\u001b[0m\u001b[1;33m(\u001b[0m\u001b[1;33m)\u001b[0m\u001b[1;33m\u001b[0m\u001b[1;33m\u001b[0m\u001b[0m\n\u001b[0m",
      "\u001b[1;32m~\\AppData\\Local\\Temp/ipykernel_17492/1937639284.py\u001b[0m in \u001b[0;36minit\u001b[1;34m()\u001b[0m\n\u001b[0;32m      1\u001b[0m \u001b[1;32mdef\u001b[0m \u001b[0minit\u001b[0m\u001b[1;33m(\u001b[0m\u001b[1;33m)\u001b[0m\u001b[1;33m:\u001b[0m\u001b[1;33m\u001b[0m\u001b[1;33m\u001b[0m\u001b[0m\n\u001b[1;32m----> 2\u001b[1;33m     \u001b[0mturtle\u001b[0m\u001b[1;33m.\u001b[0m\u001b[0msetup\u001b[0m\u001b[1;33m(\u001b[0m\u001b[1;36m1200\u001b[0m\u001b[1;33m,\u001b[0m\u001b[1;36m800\u001b[0m\u001b[1;33m,\u001b[0m\u001b[1;36m450\u001b[0m\u001b[1;33m,\u001b[0m\u001b[1;36m150\u001b[0m\u001b[1;33m)\u001b[0m \u001b[1;31m#设置画布大小 1200 8200 为屏幕位置\u001b[0m\u001b[1;33m\u001b[0m\u001b[1;33m\u001b[0m\u001b[0m\n\u001b[0m\u001b[0;32m      3\u001b[0m     \u001b[0mturtle\u001b[0m\u001b[1;33m.\u001b[0m\u001b[0mspeed\u001b[0m\u001b[1;33m(\u001b[0m\u001b[1;36m10\u001b[0m\u001b[1;33m)\u001b[0m\u001b[1;33m\u001b[0m\u001b[1;33m\u001b[0m\u001b[0m\n\u001b[0;32m      4\u001b[0m     \u001b[0mturtle\u001b[0m\u001b[1;33m.\u001b[0m\u001b[0mpenup\u001b[0m\u001b[1;33m(\u001b[0m\u001b[1;33m)\u001b[0m\u001b[1;33m\u001b[0m\u001b[1;33m\u001b[0m\u001b[0m\n\u001b[0;32m      5\u001b[0m     \u001b[0mturtle\u001b[0m\u001b[1;33m.\u001b[0m\u001b[0mpensize\u001b[0m\u001b[1;33m(\u001b[0m\u001b[1;36m15\u001b[0m\u001b[1;33m)\u001b[0m\u001b[1;33m\u001b[0m\u001b[1;33m\u001b[0m\u001b[0m\n",
      "\u001b[1;32m~\\anaconda3\\lib\\turtle.py\u001b[0m in \u001b[0;36msetup\u001b[1;34m(width, height, startx, starty)\u001b[0m\n",
      "\u001b[1;31mTerminator\u001b[0m: "
     ]
    }
   ],
   "source": [
    "init()"
   ]
  },
  {
   "cell_type": "code",
   "execution_count": 31,
   "id": "58ddce04",
   "metadata": {},
   "outputs": [],
   "source": [
    "end = time.perf_counter()\n",
    "timegap = int(end-start)\n",
    "settime = 60*60*3\n",
    "\n",
    "hour = int(timegap/3600)\n",
    "minute = int(timegap%3600/60)\n",
    "second = int(timegap%60)\n"
   ]
  },
  {
   "cell_type": "code",
   "execution_count": 34,
   "id": "0c8556ad",
   "metadata": {},
   "outputs": [
    {
     "data": {
      "text/plain": [
       "0.1"
      ]
     },
     "execution_count": 34,
     "metadata": {},
     "output_type": "execute_result"
    }
   ],
   "source": []
  },
  {
   "cell_type": "code",
   "execution_count": 32,
   "id": "5f51bbd2",
   "metadata": {},
   "outputs": [
    {
     "name": "stdout",
     "output_type": "stream",
     "text": [
      "0\n",
      "1\n",
      "9\n"
     ]
    }
   ],
   "source": [
    "print(hour)\n",
    "print(minute)\n",
    "print(second)\n"
   ]
  },
  {
   "cell_type": "code",
   "execution_count": 35,
   "id": "ec184b41",
   "metadata": {},
   "outputs": [],
   "source": [
    "DrawNumber(hour)\n",
    "DrawDot()\n",
    "DrawNumber(int(minute/10))\n",
    "DrawNumber(minute%10)\n",
    "DrawDot()\n",
    "DrawNumber(int(second/10))\n",
    "DrawNumber(second%10)\n",
    "reset()\n",
    "end = time.perf_counter()\n",
    "timegap = int(end-start)\n"
   ]
  },
  {
   "cell_type": "code",
   "execution_count": 36,
   "id": "707d141c",
   "metadata": {},
   "outputs": [],
   "source": [
    "DrawNumber(2)"
   ]
  },
  {
   "cell_type": "code",
   "execution_count": 37,
   "id": "6305a72d",
   "metadata": {},
   "outputs": [],
   "source": [
    "turtle.done()"
   ]
  },
  {
   "cell_type": "code",
   "execution_count": null,
   "id": "9ed5a3cd",
   "metadata": {},
   "outputs": [],
   "source": []
  },
  {
   "cell_type": "code",
   "execution_count": 92,
   "id": "222138d0",
   "metadata": {},
   "outputs": [
    {
     "data": {
      "text/plain": [
       "datetime.timedelta(microseconds=280287)"
      ]
     },
     "execution_count": 92,
     "metadata": {},
     "output_type": "execute_result"
    }
   ],
   "source": [
    "end = time.perf_counter()\n",
    "gap = end - start\n",
    "print(\"%d\" % gap)"
   ]
  },
  {
   "cell_type": "code",
   "execution_count": null,
   "id": "9ca360d3",
   "metadata": {},
   "outputs": [],
   "source": []
  },
  {
   "cell_type": "code",
   "execution_count": null,
   "id": "04420bbf",
   "metadata": {},
   "outputs": [],
   "source": []
  }
 ],
 "metadata": {
  "kernelspec": {
   "display_name": "Python 3 (ipykernel)",
   "language": "python",
   "name": "python3"
  },
  "language_info": {
   "codemirror_mode": {
    "name": "ipython",
    "version": 3
   },
   "file_extension": ".py",
   "mimetype": "text/x-python",
   "name": "python",
   "nbconvert_exporter": "python",
   "pygments_lexer": "ipython3",
   "version": "3.9.7"
  }
 },
 "nbformat": 4,
 "nbformat_minor": 5
}
