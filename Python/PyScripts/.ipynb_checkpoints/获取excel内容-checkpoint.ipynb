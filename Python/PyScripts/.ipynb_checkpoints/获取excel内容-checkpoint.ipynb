{
 "cells": [
  {
   "cell_type": "code",
   "execution_count": 7,
   "metadata": {},
   "outputs": [],
   "source": [
    "import xlrd\n",
    "xl = xlrd.open_workbook(r'C:\\\\Users\\\\Snion\\\\Desktop\\\\MWNY-0273  26F~36F灯槽板块骨架下料.xlsx')\n",
    "table = xl.sheets()[1]"
   ]
  },
  {
   "cell_type": "code",
   "execution_count": 11,
   "metadata": {
    "scrolled": true
   },
   "outputs": [],
   "source": [
    "col = table.col_values(14)\n",
    "\n",
    "bh=[] #编号列表 \n",
    "for i in col:\n",
    "    if i[:13] == 'Z.MWNY.ZZ.11.':\n",
    "        bh.append(i)"
   ]
  },
  {
   "cell_type": "code",
   "execution_count": 27,
   "metadata": {},
   "outputs": [
    {
     "name": "stdout",
     "output_type": "stream",
     "text": [
      "Z.MWNY.ZZ.11.1109\n",
      "Z.MWNY.ZZ.11.1110\n",
      "Z.MWNY.ZZ.11.1111\n",
      "Z.MWNY.ZZ.11.1112\n",
      "Z.MWNY.ZZ.11.1113\n",
      "Z.MWNY.ZZ.11.1114\n",
      "Z.MWNY.ZZ.11.1113\n",
      "Z.MWNY.ZZ.11.1114\n",
      "Z.MWNY.ZZ.11.1111\n",
      "Z.MWNY.ZZ.11.1112\n",
      "Z.MWNY.ZZ.11.1113\n",
      "Z.MWNY.ZZ.11.1114\n",
      "Z.MWNY.ZZ.11.1111\n",
      "Z.MWNY.ZZ.11.1116\n",
      "Z.MWNY.ZZ.11.1115\n",
      "Z.MWNY.ZZ.11.1117\n",
      "Z.MWNY.ZZ.11.1118\n",
      "Z.MWNY.ZZ.11.1119\n",
      "Z.MWNY.ZZ.11.1114\n",
      "Z.MWNY.ZZ.11.1111\n",
      "Z.MWNY.ZZ.11.1112\n",
      "Z.MWNY.ZZ.11.1111\n",
      "Z.MWNY.ZZ.11.1112\n",
      "Z.MWNY.ZZ.11.1113\n",
      "Z.MWNY.ZZ.11.1114\n",
      "Z.MWNY.ZZ.11.1111\n",
      "Z.MWNY.ZZ.11.1114\n",
      "Z.MWNY.ZZ.11.1113\n",
      "Z.MWNY.ZZ.11.1120\n",
      "Z.MWNY.ZZ.11.1121\n",
      "Z.MWNY.ZZ.11.1122\n",
      "Z.MWNY.ZZ.11.1123\n",
      "Z.MWNY.ZZ.11.1113\n",
      "Z.MWNY.ZZ.11.1114\n",
      "Z.MWNY.ZZ.11.1113\n",
      "Z.MWNY.ZZ.11.1114\n",
      "Z.MWNY.ZZ.11.1111\n",
      "Z.MWNY.ZZ.11.1112\n",
      "Z.MWNY.ZZ.11.1113\n",
      "Z.MWNY.ZZ.11.1112\n",
      "Z.MWNY.ZZ.11.1124\n",
      "Z.MWNY.ZZ.11.1125\n",
      "Z.MWNY.ZZ.11.1121\n",
      "Z.MWNY.ZZ.11.1145\n",
      "Z.MWNY.ZZ.11.1111\n",
      "Z.MWNY.ZZ.11.1112\n",
      "Z.MWNY.ZZ.11.1111\n",
      "Z.MWNY.ZZ.11.1126\n",
      "Z.MWNY.ZZ.11.1127\n",
      "Z.MWNY.ZZ.11.1128\n",
      "Z.MWNY.ZZ.11.1129\n",
      "Z.MWNY.ZZ.11.1130\n",
      "Z.MWNY.ZZ.11.1130\n",
      "Z.MWNY.ZZ.11.1119\n",
      "Z.MWNY.ZZ.11.1114\n",
      "Z.MWNY.ZZ.11.1111\n",
      "Z.MWNY.ZZ.11.1131\n",
      "Z.MWNY.ZZ.11.1117\n",
      "Z.MWNY.ZZ.11.1119\n",
      "Z.MWNY.ZZ.11.1132\n",
      "Z.MWNY.ZZ.11.1113\n",
      "Z.MWNY.ZZ.11.1114\n",
      "Z.MWNY.ZZ.11.1133\n",
      "Z.MWNY.ZZ.11.1134\n",
      "Z.MWNY.ZZ.11.1113\n",
      "Z.MWNY.ZZ.11.1131\n",
      "Z.MWNY.ZZ.11.1117\n",
      "Z.MWNY.ZZ.11.1118\n",
      "Z.MWNY.ZZ.11.1111\n",
      "Z.MWNY.ZZ.11.1126\n",
      "Z.MWNY.ZZ.11.1135\n",
      "Z.MWNY.ZZ.11.1136\n",
      "Z.MWNY.ZZ.11.1111\n",
      "Z.MWNY.ZZ.11.1125\n",
      "Z.MWNY.ZZ.11.1137\n",
      "Z.MWNY.ZZ.11.1138\n",
      "Z.MWNY.ZZ.11.1118\n",
      "Z.MWNY.ZZ.11.1111\n",
      "Z.MWNY.ZZ.11.1139\n",
      "Z.MWNY.ZZ.11.1140\n",
      "Z.MWNY.ZZ.11.1140\n",
      "Z.MWNY.ZZ.11.1141\n",
      "Z.MWNY.ZZ.11.1142\n",
      "Z.MWNY.ZZ.11.1143\n",
      "Z.MWNY.ZZ.11.1113\n",
      "Z.MWNY.ZZ.11.1125\n",
      "Z.MWNY.ZZ.11.1121\n",
      "Z.MWNY.ZZ.11.1144\n",
      "Z.MWNY.ZZ.11.1112\n",
      "Z.MWNY.ZZ.11.1113\n",
      "Z.MWNY.ZZ.11.1114\n",
      "Z.MWNY.ZZ.11.1119\n",
      "Z.MWNY.ZZ.11.1125\n",
      "Z.MWNY.ZZ.11.1121\n",
      "Z.MWNY.ZZ.11.1145\n",
      "Z.MWNY.ZZ.11.1111\n",
      "Z.MWNY.ZZ.11.1112\n",
      "Z.MWNY.ZZ.11.1111\n",
      "Z.MWNY.ZZ.11.1125\n",
      "Z.MWNY.ZZ.11.1146\n",
      "Z.MWNY.ZZ.11.1138\n",
      "Z.MWNY.ZZ.11.1118\n",
      "Z.MWNY.ZZ.11.1119\n",
      "Z.MWNY.ZZ.11.1047\n",
      "Z.MWNY.ZZ.11.1148\n",
      "Z.MWNY.ZZ.11.1149\n"
     ]
    }
   ],
   "source": [
    "for i in bh:\n",
    "    print(i)"
   ]
  },
  {
   "cell_type": "code",
   "execution_count": 28,
   "metadata": {},
   "outputs": [],
   "source": [
    "gmz = [1109,1110,1111,1112,1115,1118,1119,1120,1154,1130,1134,1152,1126,1125]\n",
    "gmy = []\n",
    "gmzN = 0\n",
    "gmyN = 0"
   ]
  },
  {
   "cell_type": "code",
   "execution_count": 29,
   "metadata": {},
   "outputs": [],
   "source": [
    "for i in bh:\n",
    "    if int(i[-4:]) in gmz:\n",
    "        gmzN = gmzN+1"
   ]
  },
  {
   "cell_type": "code",
   "execution_count": 30,
   "metadata": {},
   "outputs": [
    {
     "data": {
      "text/plain": [
       "47"
      ]
     },
     "execution_count": 30,
     "metadata": {},
     "output_type": "execute_result"
    }
   ],
   "source": [
    "gmzN"
   ]
  },
  {
   "cell_type": "code",
   "execution_count": null,
   "metadata": {},
   "outputs": [],
   "source": []
  },
  {
   "cell_type": "code",
   "execution_count": null,
   "metadata": {},
   "outputs": [],
   "source": []
  },
  {
   "cell_type": "code",
   "execution_count": null,
   "metadata": {},
   "outputs": [],
   "source": []
  }
 ],
 "metadata": {
  "kernelspec": {
   "display_name": "Python 3",
   "language": "python",
   "name": "python3"
  },
  "language_info": {
   "codemirror_mode": {
    "name": "ipython",
    "version": 3
   },
   "file_extension": ".py",
   "mimetype": "text/x-python",
   "name": "python",
   "nbconvert_exporter": "python",
   "pygments_lexer": "ipython3",
   "version": "3.8.3"
  }
 },
 "nbformat": 4,
 "nbformat_minor": 4
}
