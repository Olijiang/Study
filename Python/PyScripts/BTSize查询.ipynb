{
 "cells": [
  {
   "cell_type": "code",
   "execution_count": 1,
   "metadata": {},
   "outputs": [],
   "source": [
    "from bencode import *\n",
    "import os"
   ]
  },
  {
   "cell_type": "code",
   "execution_count": 2,
   "metadata": {},
   "outputs": [],
   "source": [
    "file_path = \"C:\\\\Users\\\\Snion\\\\Desktop\\\\BT\\\\\"\n",
    "filename_list = os.listdir(file_path)  # 扫描目标路径的文件,将文件名存入列表\n"
   ]
  },
  {
   "cell_type": "code",
   "execution_count": 3,
   "metadata": {
    "scrolled": true
   },
   "outputs": [
    {
     "name": "stdout",
     "output_type": "stream",
     "text": [
      "14.44GB---RDG_ Red Data Girl _ RDG 濒危物种少女 _ RDG レッドデータガール 10-bit 1080p HEVC BDRip [Fin]                                           \n",
      "3.81GB---Re_Zero kara Hajimeru Isekai Seikatsu Memory Snow _ Re_从零开始的异世界生活 Memory Snow 10-bit 1080p HEVC BDRip [OVA Fin]         \n",
      "50.13GB---RWBY _ 四色战记 10-bit 1080p HEVC BDRip [WEB Vol.1-Vol.4 + SP Fin]                                                          \n",
      "18.62GB---SAO The Movie - Ordinal Scale - _ 剧场版 刀剑神域_序列之争 _ 劇場版 ソードアート・オンライン -オーディナル・スケール- 10-bit 1080p HEVC BDRip                \n",
      "43.42GB---Shingeki no Kyojin_Attack on Titan _ 进击的巨人 _ 進撃の巨人 10-bit 1080p HEVC BDRip [MOVIE+OADs Rev Fin]                         \n",
      "10.77GB---Shuumatsu no Izetta _ 终末的伊泽塔 _ 終末のイゼッタ 10-bit 1080p HEVC BDRip [Fin]                                                    \n",
      "50.60GB---Toaru Kagaku no Railgun _ 某科学的超电磁炮 _ とある科学の超電磁砲 10-bit 1080p AVC BDRip [S1+S2+OVA Reseed Fin]                           \n",
      "14.17GB---Tokyo Ghoul √A_东京食尸鬼√A 10bit 1080p HEVC BDRip (Fin)                                                                     \n",
      "17.33GB---Tsuki ga Kirei _ 月色真美 _ 月がきれい 10-bit 1080p HEVC BDRip [Fin]                                                             \n",
      "9.58GB---Yamada-kun to 7-nin no Majo_山田君与七人魔女 10bit 1080p HEVC BDRip Fin                                                         \n",
      "7.00GB---[VCB-Studio]Glass no Hana to Kowasu Sekai_玻璃之花与崩坏的世界 10bit 1080p HEVC BDRip [Fin]                                       \n",
      "44.44GB---Guilty Crown _ 罪恶王冠 _ ギルティクラウン 10-bit 1080p AVC BDRip [Reseed Fin]                                                      \n",
      "9.51GB---Sora no Aosa o Shiru Hito yo _ 见过湛蓝天空的人啊_知晓天空之蓝的人啊 _ 空の青さを知る人よ 10-bit 1080p HEVC BDRip [MOVIE]                          \n",
      "5.73GB---Sounan Desuka_ _ 你遭难了吗？ _ ソウナンですか_ 10-bit 1080p HEVC BDRip [Fin]                                                        \n",
      "6.51GB---Asagao to Kase-san. _ 牵牛花与加濑同学。 _ あさがおと加瀬さん。 10-bit 1080p HEVC BDRip [Rev & Reseed Fin]                                 \n",
      "19.12GB---Asobi Asobase _ 来玩游戏吧_游戏三人娘 _ あそびあそばせ 10-bit 1080p HEVC BDRip [TV + OAD_OVA Fin]                                        \n",
      "3.99GB---Fragtime _ 时光碎片 _ フラグタイム 10-bit 1080p HEVC BDRip [MOVIE]                                                                \n",
      "10.31GB---Kimi no Suizou o Tabetai _ 我想吃掉你的胰脏 _ 君の膵臓をたべたい 10-bit 1080p HEVC BDRip [MOVIE]                                         \n",
      "12.90GB---Maquia_ When the Promised Flower Blooms _ 于离别之朝束起约定之花 _ さよならの朝に約束の花をかざろう 10-bit 1080p HEVC BDRip [Movie Fin]            \n",
      "1.64GB---YuruYuri Ten _ 摇曳百合、 _ ゆるゆり、 10-bit 1080p HEVC BDRip [OVA Fin]                                                          \n",
      "9.72GB---Go-Toubun no Hanayome _ 五等分的花嫁 _ 五等分の花嫁 10-bit 1080p HEVC BDRip [Fin]                                                   \n",
      "24.34GB---Azur Lane _ 碧蓝航线 _ アズールレーン 10-bit 1080p HEVC BDRip [Fin]                                                                \n",
      "14.71GB---Kaguya-sama wa Kokurasetai _ 辉夜大小姐想让我告白 _ かぐや様は告らせたい 10-bit 1080p HEVC BDRip [Fin]                                      \n",
      "12.98GB---Plastic Memories_可塑性记忆 10bit 1080p HEVC BDRip [Fin]                                                                     \n",
      "39.69GB---Kimetsu no Yaiba _ 鬼灭之刃 _ 鬼滅の刃 10-bit 1080p HEVC BDRip [Fin]                                                            \n",
      "总计：455.47GB\n"
     ]
    }
   ],
   "source": [
    "E = [\"[SweetSub&LoliHouse&VCB-S] \",\"[VCB-S&philosophy-raws] \",\"[VCB-Studio&philosophy-raws] \",\"[VCB-Studio] \",\".torrent\",\\\n",
    "     \"[yan04000985&VCB-Studio] \",\"[动漫国字幕组&VCB-Studio] \",\"[动漫国字幕组&茉语星梦&VCB-Studio] \",\"[千夏字幕组&VCB-Studio] \",\\\n",
    "    \"[千夏字幕组&VCB-Studio] \",\"[喵萌奶茶屋&VCB-Studio] \",\"[喵萌奶茶屋&西农YUI&VCB-Studio] \",\"[悠哈璃羽字幕社&VCB-Studio] \",\\\n",
    "    \"[豌豆字幕组&风之圣殿&VCB-Studio] \",\"[茉语星梦&千夏&风之圣殿&VCB-Studio] \",\"[极影字幕社&VCB-Studio] \"]\n",
    "SUM = 0\n",
    "for i in filename_list:\n",
    "    if i[-7:] == \"torrent\":\n",
    "        #print(i)\n",
    "        path = file_path+i\n",
    "        with open(path, 'rb+') as fp:\n",
    "            message = bdecode(fp.read())\n",
    "            k=0\n",
    "            for j in message[b'info'][b'files']:\n",
    "                k=k+j[b'length']\n",
    "            size = k/1024/1024/1024\n",
    "            SUM = SUM+size\n",
    "            for y in E:\n",
    "                i = i.replace(y,\"\")\n",
    "            \n",
    "            print(\"{:.2f}GB---\".format(size),end = \"\")\n",
    "            print(i+\" \"*(120-len(i)))\n",
    "print(\"总计：{:.2f}GB\".format(SUM))"
   ]
  },
  {
   "cell_type": "code",
   "execution_count": null,
   "metadata": {},
   "outputs": [],
   "source": [
    "with open(file_path, 'rb+') as fp:\n",
    "    message = bdecode(fp.read())\n",
    "k=0\n",
    "for i in message[b'info'][b'files']:\n",
    "    k=k+i[b'length']\n",
    "    \n",
    "    \n",
    "size = k/1024/1024/1024"
   ]
  },
  {
   "cell_type": "code",
   "execution_count": 73,
   "metadata": {},
   "outputs": [
    {
     "name": "stdout",
     "output_type": "stream",
     "text": [
      "------------------------------------------------------------------------------------------------------------------------\n"
     ]
    }
   ],
   "source": [
    "print(\"-\"*(120))"
   ]
  },
  {
   "cell_type": "code",
   "execution_count": null,
   "metadata": {},
   "outputs": [],
   "source": []
  },
  {
   "cell_type": "code",
   "execution_count": 29,
   "metadata": {},
   "outputs": [
    {
     "data": {
      "text/plain": [
       "dict"
      ]
     },
     "execution_count": 29,
     "metadata": {},
     "output_type": "execute_result"
    }
   ],
   "source": [
    "type(message)"
   ]
  },
  {
   "cell_type": "code",
   "execution_count": 30,
   "metadata": {},
   "outputs": [
    {
     "data": {
      "text/plain": [
       "list"
      ]
     },
     "execution_count": 30,
     "metadata": {},
     "output_type": "execute_result"
    }
   ],
   "source": [
    "type(message[b'info'][b'files'])"
   ]
  },
  {
   "cell_type": "code",
   "execution_count": null,
   "metadata": {},
   "outputs": [],
   "source": []
  },
  {
   "cell_type": "code",
   "execution_count": null,
   "metadata": {},
   "outputs": [],
   "source": []
  },
  {
   "cell_type": "code",
   "execution_count": null,
   "metadata": {},
   "outputs": [],
   "source": []
  },
  {
   "cell_type": "code",
   "execution_count": null,
   "metadata": {},
   "outputs": [],
   "source": []
  },
  {
   "cell_type": "code",
   "execution_count": null,
   "metadata": {},
   "outputs": [],
   "source": []
  },
  {
   "cell_type": "code",
   "execution_count": null,
   "metadata": {},
   "outputs": [],
   "source": []
  }
 ],
 "metadata": {
  "kernelspec": {
   "display_name": "Python 3",
   "language": "python",
   "name": "python3"
  },
  "language_info": {
   "codemirror_mode": {
    "name": "ipython",
    "version": 3
   },
   "file_extension": ".py",
   "mimetype": "text/x-python",
   "name": "python",
   "nbconvert_exporter": "python",
   "pygments_lexer": "ipython3",
   "version": "3.8.3"
  }
 },
 "nbformat": 4,
 "nbformat_minor": 4
}
