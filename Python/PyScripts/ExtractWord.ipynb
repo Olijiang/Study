{
 "cells": [
  {
   "cell_type": "code",
   "execution_count": 67,
   "metadata": {},
   "outputs": [],
   "source": [
    "import os, re\n",
    "text = []\n",
    "path = 'C:\\\\Users\\\\Snion\\\\Desktop\\\\word.txt'\n",
    "with open(path, 'r' ,encoding='utf-8') as fp:\n",
    "    t = fp.readlines()\n"
   ]
  },
  {
   "cell_type": "code",
   "execution_count": 68,
   "metadata": {},
   "outputs": [],
   "source": [
    "for i in range(5):\n",
    "    try:\n",
    "        for i in range(len(t)):\n",
    "            if t[i][0].isdigit():\n",
    "                pass\n",
    "            else:\n",
    "                del t[i]\n",
    "    except:pass\n"
   ]
  },
  {
   "cell_type": "code",
   "execution_count": 100,
   "metadata": {},
   "outputs": [],
   "source": [
    "pattern =  re.compile(r'\\d, .{1,20}  ')\n",
    "res = pattern.findall(str(t))\n",
    "for i in range(len(res)):\n",
    "    res[i] = res[i][3:-2]\n",
    "res"
   ]
  },
  {
   "cell_type": "code",
   "execution_count": 112,
   "metadata": {},
   "outputs": [],
   "source": [
    "with open(path, 'w' ,encoding='utf-8') as fp:\n",
    "    for i in range(len(res)):\n",
    "        fp.write(res[i])\n",
    "        fp.write(\"\\n\")"
   ]
  },
  {
   "cell_type": "code",
   "execution_count": null,
   "metadata": {},
   "outputs": [],
   "source": []
  },
  {
   "cell_type": "code",
   "execution_count": null,
   "metadata": {},
   "outputs": [],
   "source": []
  },
  {
   "cell_type": "code",
   "execution_count": null,
   "metadata": {},
   "outputs": [],
   "source": []
  },
  {
   "cell_type": "code",
   "execution_count": null,
   "metadata": {},
   "outputs": [],
   "source": []
  }
 ],
 "metadata": {
  "kernelspec": {
   "display_name": "Python 3",
   "language": "python",
   "name": "python3"
  },
  "language_info": {
   "codemirror_mode": {
    "name": "ipython",
    "version": 3
   },
   "file_extension": ".py",
   "mimetype": "text/x-python",
   "name": "python",
   "nbconvert_exporter": "python",
   "pygments_lexer": "ipython3",
   "version": "3.8.3"
  }
 },
 "nbformat": 4,
 "nbformat_minor": 4
}
