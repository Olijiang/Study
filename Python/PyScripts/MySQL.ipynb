{
 "cells": [
  {
   "cell_type": "code",
   "execution_count": 9,
   "id": "59d28b73",
   "metadata": {},
   "outputs": [],
   "source": [
    "import pymysql\n",
    "host = 'localhost'\n",
    "port = 3306\n",
    "db = 'mydata'\n",
    "user = 'root'\n",
    "password = ''"
   ]
  },
  {
   "cell_type": "markdown",
   "id": "94690308",
   "metadata": {},
   "source": [
    "\n",
    "# 1 学生信息库\n",
    "    create table student(\n",
    "        id int unsigned not null primary key,\n",
    "        name varchar(10),\n",
    "        birth datetime,\n",
    "        sex enum(\"M\", \"F\"),\n",
    "        class varchar(10)\n",
    "        )DEFAULT CHARSET=utf8;\n",
    "    // AUTO_INCREMENT=1000 自增从1000开始\n",
    "    insert into student values\n",
    "        (1000, \"QingHe\", \"1998-03-25\", 'F', '1601'), \n",
    "        (1001, \"HuangJing\",\"1998-05-12\", 'F', '1601'),\n",
    "        (1002, \"QianYe\",\"1998-01-30\", 'F', '1602');\n",
    "\n",
    "# 2 课程信息\n",
    "    create table course(\n",
    "        Cnumber varchar(10),\n",
    "        Cname varchar(10),\n",
    "        Cteacher varchar(10));\n",
    "\n",
    "    insert into course values\n",
    "        (\"201\", \"Chinese\", \"Tidy\"), \n",
    "        (\"202\", \"Math\",\"Zuli\"),\n",
    "        (\"203\", \"English\", \"Wond\");\n",
    "\n",
    "\n",
    "# 3 成绩信息\n",
    "    create table grade(\n",
    "        id int unsigned not null,\n",
    "        Cnumber varchar(10),\n",
    "        grade int);\n",
    "\n",
    "    insert into grade values\n",
    "        (1001, \"201\", 95), \n",
    "        (1001, \"202\", 92), \n",
    "        (1001, \"203\", 94), \n",
    "        (1002, \"202\", 96),\n",
    "        (1002, \"201\", 91), \n",
    "        (1002, \"203\", 98), \n",
    "        (1003, \"203\", 94),\n",
    "        (1003, \"202\", 95),\n",
    "        (1003, \"201\", 97);\n",
    "\n",
    "# 2 学生账号库\n",
    "    create table studentcount(\n",
    "        id int unsigned not null,\n",
    "        pwd varchar(10) not null);\n",
    "\n",
    "    insert into studentcount values\n",
    "        (1001, \"123456\"),\n",
    "        (1002, \"123456\"),\n",
    "        (1003, \"123456\");\n",
    "    select * from studentcount where id = 1002 and pwd = \"123456\"\n",
    "\n",
    "# 4 老师账号库\n",
    "    create table teachcount(\n",
    "        id int unsigned not null primary key,\n",
    "        pwd varchar(10) not null);\n",
    "\n",
    "    insert into teachcount values\n",
    "        (0000, \"0000\");\n",
    "\n",
    "# test \n",
    "    create table test(id int ,name char(50) )default charset=utf8;\n",
    "    insert into test values(123,\"青叶\");"
   ]
  },
  {
   "cell_type": "code",
   "execution_count": 27,
   "id": "acba8aca",
   "metadata": {},
   "outputs": [
    {
     "name": "stdout",
     "output_type": "stream",
     "text": [
      "id \t name \t\t pwd \t\t age \t sex \t C1 \t C2 \t C3\n",
      "1000 \t QingHe \t 123456 \t 18 \t F \t 99 \t 98 \t 97\n",
      "1001 \t HuangJing \t 123456 \t 18 \t F \t 98 \t 95 \t 100\n"
     ]
    }
   ],
   "source": [
    "# ---- 用pymysql 操作数据库\n",
    "def check_it():\n",
    "    conn = pymysql.connect(host=host, port=port, db=db, user=user, password=password)\n",
    "    # 使用 cursor() 方法创建一个 dict 格式的游标对象 cursor\n",
    "    cursor = conn.cursor(pymysql.cursors.DictCursor)\n",
    "    # 使用 execute()  方法执行 SQL 查询\n",
    "    cursor.execute(\"select * from students\")\n",
    "    # 使用 fetchone() 方法获取单条数据.\n",
    "    data_list = cursor.fetchall()\n",
    "    print(\"id \\t name \\t\\t pwd \\t\\t age \\t sex \\t C1 \\t C2 \\t C3\")\n",
    "    for obj in data_list:\n",
    "        print(\"%d \\t %s \\t %s \\t %d \\t %c \\t %d \\t %d \\t %d\" %(obj['id'], obj['name'], obj['pwd'], obj['age'], obj['sex'], obj['C1'], obj['C2'], obj['C3']))\n",
    "    # 关闭数据库连接\n",
    "    cursor.close()\n",
    "    conn.close()\n",
    "\n",
    "if __name__ == '__main__':\n",
    "    check_it()"
   ]
  },
  {
   "cell_type": "code",
   "execution_count": null,
   "id": "c06e39d0",
   "metadata": {},
   "outputs": [],
   "source": []
  }
 ],
 "metadata": {
  "kernelspec": {
   "display_name": "Python 3 (ipykernel)",
   "language": "python",
   "name": "python3"
  },
  "language_info": {
   "codemirror_mode": {
    "name": "ipython",
    "version": 3
   },
   "file_extension": ".py",
   "mimetype": "text/x-python",
   "name": "python",
   "nbconvert_exporter": "python",
   "pygments_lexer": "ipython3",
   "version": "3.9.7"
  }
 },
 "nbformat": 4,
 "nbformat_minor": 5
}
