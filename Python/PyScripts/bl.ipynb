{
 "cells": [
  {
   "cell_type": "code",
   "execution_count": 18,
   "metadata": {},
   "outputs": [],
   "source": [
    "import requests,json,gzip, ssl\n",
    "from urllib import request\n",
    "from io import BytesIO\n",
    "url=\"https://api.bilibili.com/pgc/player/web/playurl?cid=237945449&qn=112&type=&otype=json&fourk=1&bvid=BV1GA411J7Zh&ep_id=339061&fnver=0\"\n",
    "cok=\"_uuid=BCA1977D-BEEE-1CDE-3760-F3D6CB908A1482264infoc; buvid3=C4052332-49F2-4378-A86B-82B61AB99E35143085infoc; rpdid=|(J|~uu)kJl~0J'ulm)YkJYm~; blackside_state=1; DedeUserID=276546646; DedeUserID__ckMd5=86eb228494332fd9; SESSDATA=82bf1a8e%2C1614348338%2Cc80c8*81; bili_jct=a4ba4a0b245fdf406c6ecfaf9bd4dcf5; CURRENT_QUALITY=112; CURRENT_FNVAL=80; sid=hst31tcz; PVID=1; bfe_id=6f285c892d9d3c1f8f020adad8bed553\"\n",
    "ua = 'Mozilla/5.0 (Windows NT 10.0; WOW64) AppleWebKit/537.36 (KHTML, like Gecko) Chrome/84.0.4147.105'\n",
    "headers = {'Accept': '*/*', 'Accept-Language': 'en-US,en;q=0.5', 'User-Agent': ua,\"accept-encoding\": \"gzip, deflate, br\",\n",
    "          \"cookie\": cok,}\n",
    "playurl = \"https://upos-sz-mirrorkodo.bilivideo.com/upgcxcode/49/54/237945449/237945449-1-464.mp4?e=ig8euxZM2rNcNbu1hwdVhoMahWdVhwdEto8g5X10ugNcXBlqNxHxNEVE5XREto8KqJZHUa6m5J0SqE85tZvEuENvNo8g2ENvNo8i8o859r1qXg8xNEVE5XREto8GuFGv2U7SuxI72X6fTr859r1qXg8gNEVE5XREto8z5JZC2X2gkX5L5F1eTX1jkXlsTXHeux_f2o859IB_&uipk=5&nbs=1&deadline=1603529502&gen=playurl&os=kodobv&oi=3071155713&trid=5ca04cf948924fb7b4ef6bf70137cecep&platform=pc&upsig=180357752d236c2b27923f3c725ed09a&uparams=e,uipk,nbs,deadline,gen,os,oi,trid,platform&mid=0&orderid=0,3&agrr=0&logo=80000000\"\n"
   ]
  },
  {
   "cell_type": "code",
   "execution_count": 19,
   "metadata": {},
   "outputs": [
    {
     "data": {
      "text/plain": [
       "403"
      ]
     },
     "execution_count": 19,
     "metadata": {},
     "output_type": "execute_result"
    }
   ],
   "source": [
    "req = requests.get(playurl, headers=headers)\n",
    "req.status_code"
   ]
  },
  {
   "cell_type": "code",
   "execution_count": 20,
   "metadata": {},
   "outputs": [],
   "source": [
    "path = \"F:\\\\Download\\\\\"\n",
    "file = open(path+\"1.flv\",\"wb\")\n",
    "file.write( req.content )\n",
    "file.close()"
   ]
  },
  {
   "cell_type": "code",
   "execution_count": 168,
   "metadata": {},
   "outputs": [],
   "source": []
  },
  {
   "cell_type": "code",
   "execution_count": 169,
   "metadata": {},
   "outputs": [],
   "source": [
    "#返回byte对象\n",
    "req.content\n",
    "\n",
    "#返回String对象\n",
    "html = req.text"
   ]
  },
  {
   "cell_type": "code",
   "execution_count": 170,
   "metadata": {
    "scrolled": true
   },
   "outputs": [
    {
     "data": {
      "text/plain": [
       "{'code': 0,\n",
       " 'message': 'success',\n",
       " 'result': {'accept_format': 'mp4,mp4,mp4,mp4,mp4',\n",
       "  'code': 0,\n",
       "  'durl': [{'size': 102332297,\n",
       "    'ahead': '',\n",
       "    'length': 360109,\n",
       "    'vhead': '',\n",
       "    'backup_url': ['https://upos-sz-mirrorkodo.bilivideo.com/upgcxcode/49/54/237945449/237945449-1-464.mp4?e=ig8euxZM2rNcNbu1hwdVhoMahWdVhwdEto8g5X10ugNcXBlqNxHxNEVE5XREto8KqJZHUa6m5J0SqE85tZvEuENvNo8g2ENvNo8i8o859r1qXg8xNEVE5XREto8GuFGv2U7SuxI72X6fTr859r1qXg8gNEVE5XREto8z5JZC2X2gkX5L5F1eTX1jkXlsTXHeux_f2o859IB_&uipk=5&nbs=1&deadline=1603392115&gen=playurl&os=kodobv&oi=3071155713&trid=3646ac7ac7b446d79c254dfb565a6efdp&platform=pc&upsig=adf3579250ba7c1ed15e29b34d15fe30&uparams=e,uipk,nbs,deadline,gen,os,oi,trid,platform&mid=0&orderid=1,3&agrr=0&logo=40000000',\n",
       "     'https://upos-sz-mirrorkodob.bilivideo.com/upgcxcode/49/54/237945449/237945449-1-464.mp4?e=ig8euxZM2rNcNbu1hwdVhoMahWdVhwdEto8g5X10ugNcXBlqNxHxNEVE5XREto8KqJZHUa6m5J0SqE85tZvEuENvNo8g2ENvNo8i8o859r1qXg8xNEVE5XREto8GuFGv2U7SuxI72X6fTr859r1qXg8gNEVE5XREto8z5JZC2X2gkX5L5F1eTX1jkXlsTXHeux_f2o859IB_&uipk=5&nbs=1&deadline=1603392115&gen=playurl&os=kodobbv&oi=3071155713&trid=3646ac7ac7b446d79c254dfb565a6efdp&platform=pc&upsig=c44b6d3d2a7abfb7be9039e264ba2dbb&uparams=e,uipk,nbs,deadline,gen,os,oi,trid,platform&mid=0&orderid=2,3&agrr=0&logo=40000000'],\n",
       "    'url': 'https://upos-sz-mirrorkodo.bilivideo.com/upgcxcode/49/54/237945449/237945449-1-464.mp4?e=ig8euxZM2rNcNbu1hwdVhoMahWdVhwdEto8g5X10ugNcXBlqNxHxNEVE5XREto8KqJZHUa6m5J0SqE85tZvEuENvNo8g2ENvNo8i8o859r1qXg8xNEVE5XREto8GuFGv2U7SuxI72X6fTr859r1qXg8gNEVE5XREto8z5JZC2X2gkX5L5F1eTX1jkXlsTXHeux_f2o859IB_&uipk=5&nbs=1&deadline=1603392115&gen=playurl&os=kodobv&oi=3071155713&trid=3646ac7ac7b446d79c254dfb565a6efdp&platform=pc&upsig=adf3579250ba7c1ed15e29b34d15fe30&uparams=e,uipk,nbs,deadline,gen,os,oi,trid,platform&mid=0&orderid=0,3&agrr=0&logo=80000000',\n",
       "    'order': 1,\n",
       "    'md5': ''}],\n",
       "  'seek_param': 'start',\n",
       "  'is_preview': 1,\n",
       "  'no_rexcode': 0,\n",
       "  'format': 'mp4',\n",
       "  'fnval': 0,\n",
       "  'video_project': False,\n",
       "  'fnver': 0,\n",
       "  'support_formats': [{'display_desc': '1080P',\n",
       "    'superscript': '高码率',\n",
       "    'need_login': True,\n",
       "    'format': 'mp4',\n",
       "    'description': '高清 1080P+',\n",
       "    'need_vip': True,\n",
       "    'quality': 112,\n",
       "    'new_description': '1080P 高码率'},\n",
       "   {'display_desc': '1080P',\n",
       "    'superscript': '',\n",
       "    'need_login': True,\n",
       "    'format': 'mp4',\n",
       "    'description': '高清 1080P',\n",
       "    'quality': 80,\n",
       "    'new_description': '1080P 高清'},\n",
       "   {'display_desc': '720P',\n",
       "    'superscript': '',\n",
       "    'need_login': True,\n",
       "    'format': 'mp4',\n",
       "    'description': '高清 720P',\n",
       "    'quality': 64,\n",
       "    'new_description': '720P 高清'},\n",
       "   {'display_desc': '480P',\n",
       "    'superscript': '',\n",
       "    'format': 'mp4',\n",
       "    'description': '清晰 480P',\n",
       "    'quality': 32,\n",
       "    'new_description': '480P 清晰'},\n",
       "   {'display_desc': '360P',\n",
       "    'superscript': '',\n",
       "    'format': 'mp4',\n",
       "    'description': '流畅 360P',\n",
       "    'quality': 16,\n",
       "    'new_description': '360P 流畅'}],\n",
       "  'message': '',\n",
       "  'type': 'MP4',\n",
       "  'accept_quality': [112, 80, 64, 32, 16],\n",
       "  'bp': 0,\n",
       "  'quality': 80,\n",
       "  'timelength': 6887915,\n",
       "  'result': 'suee',\n",
       "  'seek_type': 'second',\n",
       "  'has_paid': False,\n",
       "  'from': 'local',\n",
       "  'video_codecid': 7,\n",
       "  'accept_description': ['高清 1080P+',\n",
       "   '高清 1080P',\n",
       "   '高清 720P',\n",
       "   '清晰 480P',\n",
       "   '流畅 360P'],\n",
       "  'status': 13}}"
      ]
     },
     "execution_count": 170,
     "metadata": {},
     "output_type": "execute_result"
    }
   ],
   "source": [
    "json.loads(html)"
   ]
  },
  {
   "cell_type": "code",
   "execution_count": 163,
   "metadata": {},
   "outputs": [],
   "source": [
    "buffer = BytesIO(req.content)\n",
    "try:\n",
    "    data = gzip.GzipFile(fileobj=buffer, mode=\"r\")\n",
    "except:\n",
    "    data = buffer.extrabuf\n",
    "#data = gzip.GzipFile(fileobj=buffer)"
   ]
  },
  {
   "cell_type": "code",
   "execution_count": null,
   "metadata": {},
   "outputs": [],
   "source": []
  },
  {
   "cell_type": "code",
   "execution_count": null,
   "metadata": {},
   "outputs": [],
   "source": []
  },
  {
   "cell_type": "markdown",
   "metadata": {},
   "source": [
    "# for example"
   ]
  },
  {
   "cell_type": "code",
   "execution_count": 4,
   "metadata": {},
   "outputs": [],
   "source": [
    "a=10\n",
    "b=20\n",
    "c=30"
   ]
  },
  {
   "cell_type": "code",
   "execution_count": 5,
   "metadata": {},
   "outputs": [],
   "source": [
    "d = a*b*c"
   ]
  },
  {
   "cell_type": "code",
   "execution_count": 6,
   "metadata": {},
   "outputs": [
    {
     "data": {
      "text/plain": [
       "6000"
      ]
     },
     "execution_count": 6,
     "metadata": {},
     "output_type": "execute_result"
    }
   ],
   "source": [
    "d"
   ]
  },
  {
   "cell_type": "code",
   "execution_count": null,
   "metadata": {},
   "outputs": [],
   "source": []
  },
  {
   "cell_type": "code",
   "execution_count": null,
   "metadata": {},
   "outputs": [],
   "source": []
  }
 ],
 "metadata": {
  "kernelspec": {
   "display_name": "Python 3",
   "language": "python",
   "name": "python3"
  },
  "language_info": {
   "codemirror_mode": {
    "name": "ipython",
    "version": 3
   },
   "file_extension": ".py",
   "mimetype": "text/x-python",
   "name": "python",
   "nbconvert_exporter": "python",
   "pygments_lexer": "ipython3",
   "version": "3.8.3"
  }
 },
 "nbformat": 4,
 "nbformat_minor": 4
}
