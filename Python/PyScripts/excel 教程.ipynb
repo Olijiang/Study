{
 "cells": [
  {
   "cell_type": "markdown",
   "metadata": {},
   "source": [
    "## excel常用对象\n",
    "    1.工作簿\n",
    "        - 以序号表示：Workbooks(n)\n",
    "        - 以文件名表示：Worksheets(\"Name\")\n",
    "        - 工作簿集合：Workbooks\n",
    "        - 当前工作簿：Thisworkbook\n",
    "        - 活动工作簿：ActivateWorkbook\n",
    "    2.工作表\n",
    "        - 以序号表示：Worksheets(n)\n",
    "        - 以工作表 名表示：Worksheets(\"Name\")\n",
    "        - 以工作表代码名称表示：sheet1、sheet2...\n",
    "        - 活动工作表：ActivateWorksheet\n",
    "    3.单元格\n",
    "        - 单元格的简化表示方法： [a1]、[a1:b1]\n",
    "        - 标准表示方法： Range(\"a1\")、Range(\"a1:b1\")\n",
    "        - 单个单元格表示方法：Cells(1,1)\n",
    "        - 活动单元格表示：ActivateCell\n",
    "        - 所选单元格区域表示：Selection"
   ]
  },
  {
   "cell_type": "markdown",
   "metadata": {},
   "source": [
    "## excel 常用对象属性\n",
    "    1.Application.Name:应用软件名称\n",
    "    2.Application.Name:应用软件版本\n",
    "    3.Workbooks(\"name\").path:工作簿的在计算机的位置\n",
    "        - MsgBox Workbooks(\"name\").path:结果弹窗\n",
    "    4.3.Worksheets(1).Name：工作 表的名字"
   ]
  },
  {
   "cell_type": "markdown",
   "metadata": {},
   "source": [
    "## excel 数据类型\n",
    "    1. Byte：字节      1字节　　　　0-255\n",
    "    2. Boolean：布尔    2字节　　　　True or False\n",
    "    3. Integer：整数%    2字节　　　　正负2的15次方，-32768到32767\n",
    "    4. Long：长整型&   　4字节　　　　\n",
    "    5. Single：单精度浮点！  8字节\n",
    "    6. Double：双精度浮点#  8字节\n",
    "    7. Date：日期   8字节\n",
    "    8. String\n",
    "    9. Object\n",
    "        Dim a as Range\n",
    "        set a = [a1]\n",
    "    10. "
   ]
  },
  {
   "cell_type": "markdown",
   "metadata": {},
   "source": []
  },
  {
   "cell_type": "markdown",
   "metadata": {},
   "source": [
    "## excel 常用方法\n",
    "    1. Worksheets(1).Range(\"a1:f10\").clear：清空一个区域的内容\n",
    "    2. ActiveSheet.Cells(2, 1).Formula = \"=Sum(B1:B5)\"：设置单元格 A2 的公式\n",
    "    3. Worksheets(1).Range(\"C5:C10\").Cells(1, 1).Formula = \"=Rand()\"：给C5单元格为（1，1）给单元格赋值公式 \"=Rand()\"\n",
    "    4. Worksheets(1).Rows(10).Delete:删除行"
   ]
  },
  {
   "cell_type": "markdown",
   "metadata": {},
   "source": [
    "#### 创建行和列\n",
    "    Sub SetUpTable() \n",
    "        Worksheets(\"Sheet1\").Activate \n",
    "        For TheYear = 1 To 5 \n",
    "            Cells(1, TheYear + 1).Value = 1990 + TheYear \n",
    "        Next TheYear \n",
    "        For TheQuarter = 1 To 4 \n",
    "            Cells(TheQuarter + 1, 1).Value = \"Q\" & TheQuarter \n",
    "        Next TheQuarter \n",
    "    End Sub"
   ]
  },
  {
   "cell_type": "markdown",
   "metadata": {},
   "source": [
    "#### 设置单元格 A1:J10 的边框线条样式\n",
    "    With Worksheets(1) \n",
    "        .Range(.Cells(1, 1), _ \n",
    "        .Cells(10, 10)).Borders.LineStyle = xlThick \n",
    "    End With\n",
    "    请注意，如果要对Range、Cells 属性应用前导 With 语句的结果，则每次出现 Range、\n",
    "    Cells 属性时其前面必须具有句点。"
   ]
  },
  {
   "cell_type": "markdown",
   "metadata": {},
   "source": [
    "## 删除操作\n",
    "\n",
    "#### 以下示例删除活动工作簿第一个工作表的列“B”、“C”、“E”和“J”，包括单元格格式边框\n",
    "    Worksheets(1).Columns(10).Delete\n",
    "    Worksheets(1).Columns.Item(5).Delete\n",
    "    Worksheets(1).Columns(\"C\").Delete\n",
    "    Worksheets(1).Columns.Item(\"B\").Delete\n",
    "#### 清空一个区域的内容，包括单元格格式边框\n",
    "    Worksheets(1).Range(\"a1:f10\").clear\n",
    "#### 删除行，包括单元格格式边框\n",
    "    Worksheets(1).Rows(10).Delete\n",
    "#### 删除活动工作簿第一个工作表的区域 C8:D8 和 C6:D6，包括单元格格式边框\n",
    "    Worksheets(1).Range(\"C5:D10\").Rows(4).Delete\n",
    "    Worksheets(1).Range(\"C5:D10\").Rows.Item(2).Delete"
   ]
  },
  {
   "cell_type": "code",
   "execution_count": 4,
   "metadata": {},
   "outputs": [
    {
     "data": {
      "text/plain": [
       "32768"
      ]
     },
     "execution_count": 4,
     "metadata": {},
     "output_type": "execute_result"
    }
   ],
   "source": [
    "2**15"
   ]
  },
  {
   "cell_type": "markdown",
   "metadata": {},
   "source": []
  },
  {
   "cell_type": "markdown",
   "metadata": {},
   "source": []
  },
  {
   "cell_type": "markdown",
   "metadata": {},
   "source": []
  },
  {
   "cell_type": "markdown",
   "metadata": {},
   "source": []
  },
  {
   "cell_type": "markdown",
   "metadata": {},
   "source": []
  },
  {
   "cell_type": "markdown",
   "metadata": {},
   "source": []
  },
  {
   "cell_type": "markdown",
   "metadata": {},
   "source": []
  },
  {
   "cell_type": "markdown",
   "metadata": {},
   "source": []
  }
 ],
 "metadata": {
  "kernelspec": {
   "display_name": "Python 3",
   "language": "python",
   "name": "python3"
  },
  "language_info": {
   "codemirror_mode": {
    "name": "ipython",
    "version": 3
   },
   "file_extension": ".py",
   "mimetype": "text/x-python",
   "name": "python",
   "nbconvert_exporter": "python",
   "pygments_lexer": "ipython3",
   "version": "3.8.3"
  }
 },
 "nbformat": 4,
 "nbformat_minor": 4
}
