{
 "cells": [
  {
   "cell_type": "code",
   "execution_count": 13,
   "metadata": {},
   "outputs": [
    {
     "name": "stdout",
     "output_type": "stream",
     "text": [
      "创建文件夹 D:\\repkg\\img\\\n",
      "提取成功 D:\\repkg\\img\\960443.png\n",
      "提取成功 D:\\repkg\\img\\wallhaven-r252rq.jpg\n",
      "提取成功 D:\\repkg\\img\\a46b1039b8ac88036e392c897513c3d6.png\n",
      "提取成功 D:\\repkg\\img\\enternity.jpg\n",
      "提取成功 D:\\repkg\\img\\fog_forest_trees_129367_3840x2160.jpg\n",
      "提取成功 D:\\repkg\\img\\Resized-new.png\n",
      "提取成功 D:\\repkg\\img\\wallhaven-595121.png\n",
      "提取成功 D:\\repkg\\img\\Raposa_sharpen.png\n",
      "提取成功 D:\\repkg\\img\\14837009118900.jpg\n",
      "提取成功 D:\\repkg\\img\\stefankoidl_dragon_bones.png\n",
      "提取成功 D:\\repkg\\img\\mirror_by_t1na-dc3fus4.jpg\n",
      "提取成功 D:\\repkg\\img\\oo8hu88g5pg61.png\n",
      "提取成功 D:\\repkg\\img\\Day Lock.png\n",
      "提取成功 D:\\repkg\\img\\Lock Background.jpg\n",
      "提取成功 D:\\repkg\\img\\Night Lock.png\n",
      "提取成功 D:\\repkg\\img\\nIhg background.png\n",
      "提取成功 D:\\repkg\\img\\1483601967895.jpg\n",
      "提取成功 D:\\repkg\\img\\e220b8f2a8156c8176248f97bd1821f1.jpg\n",
      "提取成功 D:\\repkg\\img\\small-memory-lp.jpg\n",
      "提取成功 D:\\repkg\\img\\pulse_mask_656f507d589d76d78e8548ea67e6aee532ec4b3f.png\n",
      "提取成功 D:\\repkg\\img\\wallhaven-770962.jpg\n",
      "提取成功 D:\\repkg\\img\\5120x3200-px-artwork-nebula-space-space-art-Starkiteckt-669175.jpg\n"
     ]
    }
   ],
   "source": [
    "import os\n",
    "\n",
    "currentPath = \"D:\\\\repkg\"\n",
    "storePath = currentPath+\"\\\\img\\\\\"\n",
    "# currentPath = os.getcwd()\n",
    "path = currentPath+\"\\\\output\\\\\"\n",
    "if(not os.path.exists(storePath)):\n",
    "    os.mkdir(storePath)\n",
    "    print(\"创建文件夹\",storePath)\n",
    "if(not os.path.exists(path)):\n",
    "    print(\"文件不存在\",path)\n",
    "    exit()\n",
    "\n",
    "n = 1\n",
    "if(os.path.exists(path)):\n",
    "    items = os.listdir(path)\n",
    "    for item in items:\n",
    "        imgDir = path+item+\"\\\\materials\\\\\"\n",
    "        if(not os.path.exists(imgDir)):\n",
    "            print(\"文件不存在\",imgDir)\n",
    "            continue\n",
    "        if(os.path.exists(imgDir)):\n",
    "            files = os.listdir(imgDir)\n",
    "            for file in files:\n",
    "                if(file[-3:]=='png' or file[-3:]=='jpg'):\n",
    "                    imgPath = imgDir + file\n",
    "                    newImgPath = storePath+str(n)+file[-4:]\n",
    "                    while(os.path.exists(newImgPath)):\n",
    "                        n=n+1\n",
    "                        newImgPath = storePath+str(n)+file[-4:]\n",
    "                    n=n+1\n",
    "                    statement = \"copy \"+imgPath+\" \"+newImgPath\n",
    "                    os.system(statement)\n",
    "                    print(\"提取成功\", newImgPath)\n",
    "                    # print(imgPath)\n",
    "# os.system('pause')\n"
   ]
  }
 ],
 "metadata": {
  "kernelspec": {
   "display_name": "Python 3.8.7 64-bit",
   "language": "python",
   "name": "python3"
  },
  "language_info": {
   "codemirror_mode": {
    "name": "ipython",
    "version": 3
   },
   "file_extension": ".py",
   "mimetype": "text/x-python",
   "name": "python",
   "nbconvert_exporter": "python",
   "pygments_lexer": "ipython3",
   "version": "3.8.7"
  },
  "orig_nbformat": 4,
  "vscode": {
   "interpreter": {
    "hash": "41be6942999681777e9e1b630affd146517e912d19cfe79c61565f5579c643ba"
   }
  }
 },
 "nbformat": 4,
 "nbformat_minor": 2
}
