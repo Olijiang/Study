{
 "cells": [
  {
   "cell_type": "code",
   "execution_count": 1,
   "metadata": {},
   "outputs": [
    {
     "data": {
      "text/plain": [
       "['199.232.69.194   github.global.ssl.fastly.net\\n',\n",
       " '185.199.108.153   assets-cdn.github.com\\n',\n",
       " '185.199.109.153   assets-cdn.github.com\\n',\n",
       " '185.199.110.153   assets-cdn.github.com\\n',\n",
       " '185.199.111.153   assets-cdn.github.com\\n',\n",
       " '140.82.113.4   github.com\\n']"
      ]
     },
     "execution_count": 1,
     "metadata": {},
     "output_type": "execute_result"
    }
   ],
   "source": [
    "hostpath = \"C:\\\\Windows\\\\System32\\\\drivers\\\\etc\\\\hosts\"\n",
    "import requests, threading\n",
    "from bs4 import BeautifulSoup\n",
    "header = {\"User-Agent\": \"Mozilla/5.0 (Windows NT 10.0; WOW64) AppleWebKit/537.36 (KHTML, like Gecko) Chrome/77.0.3865.120 Safari/537.36 Core/1.77.101.400 QQBrowser/10.9.4622.400\"}\n",
    "\n",
    "ipstr = []\n",
    "def getUrlIp():\n",
    "    url = \"https://github.com.ipaddress.com/\"\n",
    "    html = requests.get(url, headers=header)\n",
    "    html.encoding = \"utf-8\"\n",
    "    soup = BeautifulSoup(html.text, \"lxml\")\n",
    "    UrlIp = soup.select('.comma-separated li')[0].text\n",
    "    ipstr.append(UrlIp + \"   \" + 'github.com' + '\\n')\n",
    "\n",
    "def getDomainIp():\n",
    "    url = \"https://fastly.net.ipaddress.com/github.global.ssl.fastly.net\"\n",
    "    html = requests.get(url, headers=header)\n",
    "    html.encoding = \"utf-8\"\n",
    "    soup = BeautifulSoup(html.text, \"lxml\")\n",
    "    DomainIp = soup.select('.comma-separated li')[0].text  \n",
    "    ipstr.append(DomainIp + \"   \" + 'github.global.ssl.fastly.net' + '\\n')\n",
    "\n",
    "def getStaticIp():\n",
    "    url = \"https://github.com.ipaddress.com/assets-cdn.github.com\"\n",
    "    html = requests.get(url, headers=header)\n",
    "    html.encoding = \"utf-8\"\n",
    "    soup = BeautifulSoup(html.text, \"lxml\")\n",
    "    StaticIp = soup.select('ul li strong')\n",
    "    for i in range(4):\n",
    "        ipstr.append(StaticIp[i].text + \"   \" + 'assets-cdn.github.com' + '\\n')\n",
    "        \n",
    "thread = []\n",
    "thread.append(threading.Thread(target=getUrlIp))\n",
    "thread.append(threading.Thread(target=getDomainIp))\n",
    "thread.append(threading.Thread(target=getStaticIp))\n",
    "for th in thread:\n",
    "    th.start()\n",
    "for th in thread:\n",
    "    th.join()\n",
    "\n",
    "ipstr"
   ]
  },
  {
   "cell_type": "code",
   "execution_count": 19,
   "metadata": {},
   "outputs": [
    {
     "name": "stdout",
     "output_type": "stream",
     "text": [
      "140.82.114.3   github.com\n",
      "\n",
      "199.232.69.194   github.global.ssl.fastly.net\n",
      "\n",
      "185.199.108.153   assets-cdn.github.com\n",
      "\n",
      "185.199.109.153   assets-cdn.github.com\n",
      "\n",
      "185.199.110.153   assets-cdn.github.com\n",
      "\n",
      "185.199.111.153   assets-cdn.github.com\n",
      "\n"
     ]
    }
   ],
   "source": [
    "with open(hostpath,\"r+\") as f:\n",
    "    old = f.readlines(6000)\n",
    "    f.seek(0)\n",
    "    for each in ipstr:\n",
    "        f.write(each)\n",
    "    for each in old:\n",
    "        if(re.search(\"github\", each)):\n",
    "            pass\n",
    "        else:\n",
    "            f.write(each)\n",
    "\n"
   ]
  },
  {
   "cell_type": "code",
   "execution_count": 13,
   "metadata": {},
   "outputs": [
    {
     "name": "stdout",
     "output_type": "stream",
     "text": [
      "yes\n",
      "yes\n",
      "yes\n",
      "yes\n",
      "yes\n",
      "yes\n"
     ]
    }
   ],
   "source": [
    "\n",
    "s = ['199.232.69.194   github.global.ssl.fastly.net\\n',\n",
    " '185.199.108.153   assets-cdn.github.com\\n',\n",
    " '185.199.109.153   assets-cdn.github.com\\n',\n",
    " '185.199.110.153   assets-cdn.github.com\\n',\n",
    " '185.199.111.153   assets-cdn.github.com\\n',\n",
    " '140.82.113.4   github.com\\n']\n",
    "import re\n",
    "for i in s:\n",
    "    if(re.search(\"github\", i)):\n",
    "        print(\"yes\")\n"
   ]
  },
  {
   "cell_type": "code",
   "execution_count": 13,
   "metadata": {},
   "outputs": [
    {
     "name": "stdout",
     "output_type": "stream",
     "text": [
      "185.199.108.153\n",
      "185.199.109.153\n",
      "185.199.110.153\n",
      "185.199.111.153\n"
     ]
    }
   ],
   "source": []
  }
 ],
 "metadata": {
  "interpreter": {
   "hash": "b3ba2566441a7c06988d0923437866b63cedc61552a5af99d1f4fb67d367b25f"
  },
  "kernelspec": {
   "display_name": "Python 3.9.7 ('base')",
   "language": "python",
   "name": "python3"
  },
  "language_info": {
   "codemirror_mode": {
    "name": "ipython",
    "version": 3
   },
   "file_extension": ".py",
   "mimetype": "text/x-python",
   "name": "python",
   "nbconvert_exporter": "python",
   "pygments_lexer": "ipython3",
   "version": "3.9.7"
  },
  "orig_nbformat": 4
 },
 "nbformat": 4,
 "nbformat_minor": 2
}
