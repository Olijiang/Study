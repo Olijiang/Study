{
 "cells": [
  {
   "cell_type": "code",
   "execution_count": null,
   "metadata": {},
   "outputs": [],
   "source": [
    "'https://www.89ip.cn/index_{page}.html'\n",
    "'http://www.66ip.cn/{page}.html'"
   ]
  },
  {
   "cell_type": "code",
   "execution_count": 1,
   "metadata": {},
   "outputs": [
    {
     "name": "stderr",
     "output_type": "stream",
     "text": [
      "2022-08-07 13:37:00.020 | INFO     | __main__:__CrawlIP:56 - fetching http://www.66ip.cn/1.html\n",
      "2022-08-07 13:37:00.157 | INFO     | __main__:__Verifiy:48 - Valid proxy 101.109.24.95:8080 from http://www.66ip.cn/1.html\n",
      "2022-08-07 13:37:00.179 | INFO     | __main__:__Verifiy:48 - Valid proxy 183.89.93.153:8080 from http://www.66ip.cn/1.html\n",
      "2022-08-07 13:37:00.206 | INFO     | __main__:__Verifiy:48 - Valid proxy 118.172.64.129:8080 from http://www.66ip.cn/1.html\n",
      "2022-08-07 13:37:00.231 | INFO     | __main__:__Verifiy:48 - Valid proxy 65.20.79.104:3128 from http://www.66ip.cn/1.html\n",
      "2022-08-07 13:37:00.254 | INFO     | __main__:__Verifiy:48 - Valid proxy 194.36.89.97:3128 from http://www.66ip.cn/1.html\n",
      "2022-08-07 13:37:00.284 | INFO     | __main__:__Verifiy:48 - Valid proxy 39.175.75.144:30001 from http://www.66ip.cn/1.html\n",
      "2022-08-07 13:37:00.305 | INFO     | __main__:__Verifiy:48 - Valid proxy 125.26.159.118:8080 from http://www.66ip.cn/1.html\n",
      "2022-08-07 13:37:00.306 | INFO     | __main__:__CrawlIP:56 - fetching http://www.66ip.cn/2.html\n",
      "2022-08-07 13:37:00.428 | INFO     | __main__:__Verifiy:48 - Valid proxy 139.155.182.3:80 from http://www.66ip.cn/2.html\n",
      "2022-08-07 13:37:00.449 | INFO     | __main__:__Verifiy:48 - Valid proxy 47.91.44.217:8000 from http://www.66ip.cn/2.html\n",
      "2022-08-07 13:37:00.471 | INFO     | __main__:__Verifiy:48 - Valid proxy 47.103.30.183:8080 from http://www.66ip.cn/2.html\n",
      "2022-08-07 13:37:00.499 | INFO     | __main__:__Verifiy:48 - Valid proxy 88.255.101.229:8080 from http://www.66ip.cn/2.html\n",
      "2022-08-07 13:37:00.527 | INFO     | __main__:__Verifiy:48 - Valid proxy 223.247.140.127:9002 from http://www.66ip.cn/2.html\n",
      "2022-08-07 13:37:00.549 | INFO     | __main__:__Verifiy:48 - Valid proxy 111.225.152.214:8089 from http://www.66ip.cn/2.html\n",
      "2022-08-07 13:37:00.573 | INFO     | __main__:__Verifiy:48 - Valid proxy 180.183.3.69:8080 from http://www.66ip.cn/2.html\n",
      "2022-08-07 13:37:00.594 | INFO     | __main__:__Verifiy:48 - Valid proxy 46.30.188.187:80 from http://www.66ip.cn/2.html\n",
      "2022-08-07 13:37:00.629 | INFO     | __main__:__Verifiy:48 - Valid proxy 103.161.39.220:3128 from http://www.66ip.cn/2.html\n",
      "2022-08-07 13:37:00.654 | INFO     | __main__:__Verifiy:48 - Valid proxy 223.84.240.36:9091 from http://www.66ip.cn/2.html\n",
      "2022-08-07 13:37:00.677 | INFO     | __main__:__Verifiy:48 - Valid proxy 223.84.240.36:9091 from http://www.66ip.cn/2.html\n"
     ]
    }
   ],
   "source": [
    "import requests\n",
    "import queue\n",
    "from loguru import logger\n",
    "from bs4 import BeautifulSoup\n",
    "\n",
    "headers = {\n",
    "    'Accept': 'text/html,application/xhtml+xml,application/xml;q=0.9,image/avif,image/webp,image/apng,*/*;q=0.8,application/signed-exchange;v=b3;q=0.9',\n",
    "    'Connection': 'keep-alive',\n",
    "    'User-Agent': \"Mozilla/5.0 (Windows NT 10.0; Win64; x64) AppleWebKit/537.36 (KHTML, like Gecko) Chrome/103.0.0.0 Safari/537.36\"\n",
    "}\n",
    "\n",
    "class Proxypoll():\n",
    "    __cpool = queue.Queue()  #代验证IP\n",
    "    pool=queue.Queue()  #有效IP池\n",
    "    __PAGE = 1  # \n",
    "    __BASE_URL = 'http://www.66ip.cn/{}.html'\n",
    "    \n",
    "    def __getHtml(self, url):\n",
    "        try:\n",
    "            response = requests.get(url)\n",
    "            if response.status_code==200:\n",
    "                response.encoding=\"utf-8\"\n",
    "                return response.text\n",
    "        except:\n",
    "            print(\"error : gethtml\")\n",
    "\n",
    "    def __parseHtml66(self, html):\n",
    "        proxy = {'https':'0'}\n",
    "        soup = BeautifulSoup(html, 'lxml')\n",
    "        rowlist = soup.select(\"div.layui-row\")[0].table.select('tr')\n",
    "        rowlist.pop(0)\n",
    "        for row in rowlist:\n",
    "            items = row.select('td')\n",
    "            ip = items[0].text\n",
    "            port = items[1].text\n",
    "            proxy['https'] = \":\".join([ip, port])\n",
    "            #print(proxy)\n",
    "            #print(ip,port)\n",
    "            self.__cpool.put(proxy.copy())\n",
    "\n",
    "    def __Verifiy(self):\n",
    "        TEST_API = 'http://www.baidu.com'\n",
    "        while not self.__cpool.empty():\n",
    "            proxy = self.__cpool.get()\n",
    "            try:\n",
    "                response = requests.get(TEST_API, proxies=proxy, timeout=1.5)\n",
    "                if response.status_code==200:\n",
    "                    logger.info(f'Valid proxy {proxy[\"https\"]} from {self.__BASE_URL.format(self.__PAGE)}')\n",
    "                    self.pool.put(proxy)\n",
    "            except:\n",
    "                logger.info(f'Invalid proxy {proxy[\"https\"]} from {self.__BASE_URL.format(self.__PAGE)}')\n",
    "            \n",
    "\n",
    "    def __CrawlIP(self):\n",
    "        url = self.__BASE_URL.format(self.__PAGE)\n",
    "        logger.info(f'fetching {url}')\n",
    "        html = self.__getHtml(url)\n",
    "        self.__parseHtml66(html=html)\n",
    "        self.__Verifiy()\n",
    "        self.__PAGE = self.__PAGE+1\n",
    "\n",
    "    def schedule(self):\n",
    "        while(self.pool.qsize()<10):\n",
    "            self.__CrawlIP()\n",
    "\n",
    "if __name__ == \"__main__\":\n",
    "    proxypoll = Proxypoll()\n",
    "    proxypoll.schedule()\n",
    "    #proxypoll.pool.queue.clear()\n",
    "    #proxypoll.schedule()\n",
    "\n",
    "    \n",
    "    \n"
   ]
  },
  {
   "cell_type": "code",
   "execution_count": 4,
   "metadata": {},
   "outputs": [
    {
     "data": {
      "text/plain": [
       "1"
      ]
     },
     "execution_count": 4,
     "metadata": {},
     "output_type": "execute_result"
    }
   ],
   "source": [
    "import queue\n",
    "q = queue.Queue()\n",
    "q.put(1)\n",
    "q.get()\n"
   ]
  },
  {
   "cell_type": "code",
   "execution_count": 5,
   "metadata": {},
   "outputs": [
    {
     "ename": "Empty",
     "evalue": "",
     "output_type": "error",
     "traceback": [
      "\u001b[1;31m---------------------------------------------------------------------------\u001b[0m",
      "\u001b[1;31mEmpty\u001b[0m                                     Traceback (most recent call last)",
      "\u001b[1;32m~\\AppData\\Local\\Temp\\ipykernel_676\\2087427918.py\u001b[0m in \u001b[0;36m<module>\u001b[1;34m\u001b[0m\n\u001b[1;32m----> 1\u001b[1;33m \u001b[0mq\u001b[0m\u001b[1;33m.\u001b[0m\u001b[0mget\u001b[0m\u001b[1;33m(\u001b[0m\u001b[0mblock\u001b[0m\u001b[1;33m=\u001b[0m\u001b[1;32mFalse\u001b[0m\u001b[1;33m)\u001b[0m\u001b[1;33m\u001b[0m\u001b[1;33m\u001b[0m\u001b[0m\n\u001b[0m",
      "\u001b[1;32mc:\\Users\\LiuLei\\AppData\\Local\\Programs\\Python\\Python37-32\\lib\\queue.py\u001b[0m in \u001b[0;36mget\u001b[1;34m(self, block, timeout)\u001b[0m\n\u001b[0;32m    165\u001b[0m             \u001b[1;32mif\u001b[0m \u001b[1;32mnot\u001b[0m \u001b[0mblock\u001b[0m\u001b[1;33m:\u001b[0m\u001b[1;33m\u001b[0m\u001b[1;33m\u001b[0m\u001b[0m\n\u001b[0;32m    166\u001b[0m                 \u001b[1;32mif\u001b[0m \u001b[1;32mnot\u001b[0m \u001b[0mself\u001b[0m\u001b[1;33m.\u001b[0m\u001b[0m_qsize\u001b[0m\u001b[1;33m(\u001b[0m\u001b[1;33m)\u001b[0m\u001b[1;33m:\u001b[0m\u001b[1;33m\u001b[0m\u001b[1;33m\u001b[0m\u001b[0m\n\u001b[1;32m--> 167\u001b[1;33m                     \u001b[1;32mraise\u001b[0m \u001b[0mEmpty\u001b[0m\u001b[1;33m\u001b[0m\u001b[1;33m\u001b[0m\u001b[0m\n\u001b[0m\u001b[0;32m    168\u001b[0m             \u001b[1;32melif\u001b[0m \u001b[0mtimeout\u001b[0m \u001b[1;32mis\u001b[0m \u001b[1;32mNone\u001b[0m\u001b[1;33m:\u001b[0m\u001b[1;33m\u001b[0m\u001b[1;33m\u001b[0m\u001b[0m\n\u001b[0;32m    169\u001b[0m                 \u001b[1;32mwhile\u001b[0m \u001b[1;32mnot\u001b[0m \u001b[0mself\u001b[0m\u001b[1;33m.\u001b[0m\u001b[0m_qsize\u001b[0m\u001b[1;33m(\u001b[0m\u001b[1;33m)\u001b[0m\u001b[1;33m:\u001b[0m\u001b[1;33m\u001b[0m\u001b[1;33m\u001b[0m\u001b[0m\n",
      "\u001b[1;31mEmpty\u001b[0m: "
     ]
    }
   ],
   "source": [
    "q.get(block=False)"
   ]
  }
 ],
 "metadata": {
  "kernelspec": {
   "display_name": "Python 3.7.4 32-bit",
   "language": "python",
   "name": "python3"
  },
  "language_info": {
   "codemirror_mode": {
    "name": "ipython",
    "version": 3
   },
   "file_extension": ".py",
   "mimetype": "text/x-python",
   "name": "python",
   "nbconvert_exporter": "python",
   "pygments_lexer": "ipython3",
   "version": "3.7.4"
  },
  "orig_nbformat": 4,
  "vscode": {
   "interpreter": {
    "hash": "9866ec8e6ee1bb9163910d632a9be4c67c007ec9b46dbcbb5f51674873f3feef"
   }
  }
 },
 "nbformat": 4,
 "nbformat_minor": 2
}
