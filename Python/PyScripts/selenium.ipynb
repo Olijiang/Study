{
 "cells": [
  {
   "cell_type": "markdown",
   "metadata": {},
   "source": [
    "# selenium 学习记录"
   ]
  },
  {
   "cell_type": "code",
   "execution_count": 16,
   "metadata": {},
   "outputs": [],
   "source": [
    "from selenium import webdriver  # 用来驱动浏览器的\n",
    "from selenium.webdriver import ActionChains  # 破解滑动验证码的时候用的 可以拖动图片\n",
    "from selenium.webdriver.common.by import By  # 按照什么方式查找，By.ID,By.CSS_SELECTOR\n",
    "from selenium.webdriver.common.keys import Keys  # 键盘按键操作\n",
    "from selenium.webdriver.support import expected_conditions as EC  # 和下面WebDriverWait一起用的\n",
    "from selenium.webdriver.support.wait import WebDriverWait  # 等待页面加载某些元素\n",
    "import time\n"
   ]
  },
  {
   "cell_type": "code",
   "execution_count": 5,
   "metadata": {},
   "outputs": [],
   "source": [
    "\n",
    "'header-login-entry'"
   ]
  },
  {
   "cell_type": "code",
   "execution_count": 30,
   "metadata": {},
   "outputs": [
    {
     "name": "stdout",
     "output_type": "stream",
     "text": [
      "进入主页面\n"
     ]
    },
    {
     "data": {
      "text/plain": [
       "'\\nlog_entry = browser.find_element_by_class_name(\\'header-login-entry\\')\\naction = ActionChains(browser)\\naction.move_to_element(log_entry).perform()\\naction.click().perform()\\nprint(\"进入登录页面\")\\n'"
      ]
     },
     "execution_count": 30,
     "metadata": {},
     "output_type": "execute_result"
    }
   ],
   "source": [
    "browser=webdriver.Chrome()\n",
    "browser.implicitly_wait(10) #隐性等待\n",
    "browser.get('https://www.bilibili.com/')\n",
    "print(\"进入主页面\")\n",
    "#time.sleep(10)\n",
    "'''\n",
    "log_entry = browser.find_element_by_class_name('header-login-entry')\n",
    "action = ActionChains(browser)\n",
    "action.move_to_element(log_entry).perform()\n",
    "action.click().perform()\n",
    "print(\"进入登录页面\")\n",
    "'''\n"
   ]
  },
  {
   "cell_type": "code",
   "execution_count": null,
   "metadata": {},
   "outputs": [],
   "source": []
  }
 ],
 "metadata": {
  "interpreter": {
   "hash": "42cb285974826341859ecf8960107fd4450c817be07c22552bb0392751bf4b31"
  },
  "kernelspec": {
   "display_name": "Python 3.10.0 64-bit",
   "language": "python",
   "name": "python3"
  },
  "language_info": {
   "codemirror_mode": {
    "name": "ipython",
    "version": 3
   },
   "file_extension": ".py",
   "mimetype": "text/x-python",
   "name": "python",
   "nbconvert_exporter": "python",
   "pygments_lexer": "ipython3",
   "version": "3.9.7"
  },
  "orig_nbformat": 4
 },
 "nbformat": 4,
 "nbformat_minor": 2
}
