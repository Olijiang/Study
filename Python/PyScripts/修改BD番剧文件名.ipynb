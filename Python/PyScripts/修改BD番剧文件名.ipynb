{
 "cells": [
  {
   "cell_type": "code",
   "execution_count": 1,
   "metadata": {},
   "outputs": [],
   "source": []
  },
  {
   "cell_type": "code",
   "execution_count": null,
   "metadata": {},
   "outputs": [],
   "source": []
  },
  {
   "cell_type": "code",
   "execution_count": 1,
   "metadata": {},
   "outputs": [
    {
     "name": "stdout",
     "output_type": "stream",
     "text": [
      "\n"
     ]
    }
   ],
   "source": [
    "import os\n",
    "path = \"E:\\\\DownLoading\\\\\"\n",
    "#path = \"E:\\\\DownLoad\\\\RWBY Volume\\\\\"\n",
    "E = [\"[VCB-Studio] \",\"[Hi10p_1080p][x264_flac]\",\".- [Ma10p_1080p][x265_flac]\",\"Kimi no Na wa. -\",\"[Hi10p_1080p][x264_flac_2aac]\",\\\n",
    "     \"[Airota&VCB-Studio] \",\"[Ma10p_1080p][x265_flac]\",\"[Ma10p_1080p][x265_flac_2aac]\",\"[Hi10p_1080p][x264_2flac]\",\\\n",
    "     \"[Hi10p_1080p][x264_3flac]\",\"[Mabors-Sub&Kamigami&KTXP&VCB-Studio] \",\"[Kamigami&Mabors&VCB-Studio] \",\"[Ma10p_1080p][x265_flac_aac]\",\\\n",
    "    \"[DMG&VCB-Studio] \",\"[Hi10p_1080p][x264_aac]\",\"[Hi10p_1080p][x264_ac3]\",\"[Ma10p_1080p][x265_aac]\",\"[MH&Airota&FZSD&VCB-Studio] \",\\\n",
    "    \"[Hi444pp_1080p][x264_flac]\",\" [Ma10p_1080p]\",\"[VCB-Studio&Liuyun] \",\"[Sakurato.sub&Niconeiko Works] \",\"[1080P_Ma10p_AAC]\",\"[Henshin]_\",\\\n",
    "    \"_(BD_x264_1920x1080_FLAC) (1)\",\" [BD 1920x1080 HEVC-yuv420p10 FLACx2 Chap] - mawen1250&VCB-Studio\",\"[VCB-S&philosophy-raws]\",\\\n",
    "    \"[Nekomoe kissaten&VCB-Studio] \",\"[UHA-WINGS&VCB-Studio] \",\"[SweetSub&LoliHouse&VCB-Studio] \",\"[T.H.X&VCB-Studio] \",\"[BDRIP][HEVC Main10P FLAC][1920X1080]\",\\\n",
    "    \"[DMG&MakariHoshiyume&VCB-Studio] \",\"[Ma10p_1080p][x265_2flac]\",\"[VCB-Studio&philosophy-raws] \",\"[VCB-Studio&TUcaptions] \",\"[Makino House&VCB-S&philosophy-raws] \",\\\n",
    "    \" [Hi10p_720p][BDRip][x264_flac]\",\"[U2-RIP]\",\"[U2-Rip] \",\"[HEVC Main10P FLAC][1920X1080]\",\"(BDBOX Ver.)\",\"[BeanSub&FZSD&VCB-Studio] \",\\\n",
    "    \"[KTXP&VCB-Studio] \",\"[Nekomoe kissaten&YUI-7&VCB-Studio] \",\"[Ma10p_1080p][x265_5ac3]\",\"[Ma10p_1080p][x265_3ac3]\",\"[Ma10p_1080p][x265_4ac3]\",\\\n",
    "    \"[Ma10p_1080p][x265_flac_dts]\",\"[BD 1920x1080 23.976fps AVC-yuv420p10 FLACx2] - yan04000985&VCB-Studio\",\"[BD 1920x1080 23.976fps AVC-yuv420p10 FLACx3] - yan04000985&VCB-Studio\",\n",
    "    \"[Hakugetsu&VCB-Studio] \",\"[Hi10p_1080p][x264_2flac]\",\"[Kamigami&VCB-Studio] \",\"[MakariHoshiyume&VCB-Studio] \"]\n",
    "'''\n",
    "filename_list = os.listdir(path)  # 扫描目标路径的文件,将文件名存入列表\n",
    "for i in filename_list:\n",
    "    used_name = path+i\n",
    "    for j in E:\n",
    "        i = i.replace(j,\"\")\n",
    "    new_name = path+i\n",
    "    #print(new_name)\n",
    "    try:\n",
    "        os.rename(used_name,new_name)\n",
    "    except Exception as ep:\n",
    "        print(used_name+\"---False\")\n",
    "        print(ep)\n",
    "'''\n",
    "print()"
   ]
  },
  {
   "cell_type": "code",
   "execution_count": 5,
   "metadata": {
    "scrolled": false
   },
   "outputs": [],
   "source": [
    "filename_list = os.listdir(path)\n",
    "#清空zimu文件夹\n",
    "new_dir = \"E:\\\\zimu\\\\*\"\n",
    "cmd = \"del /s/q \"+new_dir \n",
    "os.system(cmd)\n",
    "for i in filename_list:\n",
    "    \n",
    "\n",
    "    path1 = path+i+\"\\\\\"\n",
    "    filename_list1 = os.listdir(path1) \n",
    "    for y in filename_list1:\n",
    "        \n",
    "        #替换字符加改名\n",
    "        used_name = path1+y\n",
    "        for j in E:\n",
    "            y = y.replace(j,\"\")\n",
    "        new_name = path1+y\n",
    "        #print(new_name)\n",
    "        try:\n",
    "            os.rename(used_name,new_name)\n",
    "        except Exception as ep:\n",
    "            print(used_name+\"---False\")\n",
    "            print(ep)\n",
    "            \n",
    "        #SPs片段名称修改\n",
    "        if y == \"SPs\":\n",
    "            path2 = path1+y+\"\\\\\"\n",
    "            filename_list2 = os.listdir(path2)\n",
    "            for z in filename_list2:\n",
    "                used_name = path2+z\n",
    "                #print(\"used_name:\"+used_name)\n",
    "                for j in E:\n",
    "                    z = z.replace(j,\"\")\n",
    "                    new_name = path2+z\n",
    "                #print(\"new_name_:\"+new_name)\n",
    "                try:\n",
    "                    os.rename(used_name,new_name)\n",
    "                except Exception as ep:\n",
    "                    print(used_name+\"---False\")\n",
    "\n",
    "\n",
    "        \n",
    "        #print(used_name)\n",
    "\n",
    "        #字幕处理\n",
    "        if y[-3:] == \"ass\":\n",
    "            used_name = path1+y\n",
    "            #print(y)\n",
    "            #字母格式整理\n",
    "            y = y.replace(\"&jpn\",\"\")\n",
    "            y = y.replace(\"&Jap\",\"\")\n",
    "            y = y.replace(\"sc_v2\",\"chs\")\n",
    "            y = y.replace(\"sc\",\"chs\")\n",
    "            y = y.replace(\"Chs\",\"chs\")\n",
    "            \n",
    "            new_name = path1+y\n",
    "            try:\n",
    "                os.rename(used_name,new_name)\n",
    "            except Exception as ep:\n",
    "                print(used_name+\"---False\")\n",
    "                print(ep)\n",
    "            \n",
    "            #删除多余字幕\n",
    "            if y[-7:-4]==\"chs\":\n",
    "                #print(y)\n",
    "                pass\n",
    "            else:\n",
    "                \n",
    "                cmd = \"move \"+ '\"' + used_name + '\"' +\" \"+ new_dir\n",
    "                os.system(cmd)\n",
    "                #print(new_name+\"----has been moved to 'E:\\\\zimu'\")\n",
    "                print(used_name+\"----has been moved to 'E:\\\\zimu'\")\n",
    "        \n",
    "        \n",
    "        \n",
    "        \n"
   ]
  },
  {
   "cell_type": "code",
   "execution_count": 2,
   "metadata": {},
   "outputs": [],
   "source": [
    "#删除其他语言字幕\n",
    "import os\n",
    "path = \"E:\\\\zimu\\\\\"\n",
    "new_dir = \"E:\\\\Dzimu\"\n",
    "filename_list = os.listdir(path)\n",
    "#清空zimu文件夹\n",
    "cmd = \"del /s/q \"+new_dir \n",
    "os.system(cmd)\n",
    "\n",
    "for i in filename_list:\n",
    "    used_name = path+i\n",
    "    i = i.replace(\"SC\",\"chs\")\n",
    "    i = i.replace(\"sc\",\"chs\")\n",
    "    i = i.replace(\"简日\",\"chs\")\n",
    "    new_name = path+i\n",
    "    try:\n",
    "        os.rename(used_name,new_name)\n",
    "    except Exception as ep:\n",
    "        print(used_name+\"---False\")\n",
    "        print(ep)\n",
    "        \n",
    "    if i[-7:-4]==\"chs\":\n",
    "        #print(y)\n",
    "        pass\n",
    "    else:\n",
    "        \n",
    "        cmd = \"move \"+ '\"' + used_name + '\"' +\" \"+ new_dir\n",
    "        os.system(cmd)\n",
    "        print(used_name+\"----has been moved to 'E:\\\\zimu'\")\n"
   ]
  },
  {
   "cell_type": "code",
   "execution_count": 6,
   "metadata": {},
   "outputs": [],
   "source": [
    "#新添字幕文件名称修改\n",
    "import os\n",
    "path = \"E:\\\\zimu\\\\\"\n",
    "filename_list = os.listdir(path)\n",
    "n = 1\n",
    "for i in filename_list:\n",
    "    pre = \"Kyokai no Kanata [00]\"\n",
    "    if n<10:\n",
    "        pre = pre[:-2]\n",
    "    else:\n",
    "        pre = pre[:-3]\n",
    "    \n",
    "\n",
    "    #替换字符加改名\n",
    "    used_name = path+i\n",
    "    new_name = path+pre+str(n)+\"].ass\"\n",
    "    n=n+1\n",
    "    #print(new_name)\n",
    "    try:\n",
    "        os.rename(used_name,new_name)\n",
    "    except Exception as ep:\n",
    "        print(used_name+\"---False\")\n",
    "        print(ep)"
   ]
  },
  {
   "cell_type": "code",
   "execution_count": 52,
   "metadata": {},
   "outputs": [
    {
     "name": "stdout",
     "output_type": "stream",
     "text": [
      "del /s/q E:\\zimu\\*\n"
     ]
    },
    {
     "data": {
      "text/plain": [
       "0"
      ]
     },
     "execution_count": 52,
     "metadata": {},
     "output_type": "execute_result"
    }
   ],
   "source": [
    "\n",
    "new_dir = \"E:\\\\zimu\\\\*\"\n",
    "import os\n",
    "cmd = \"del /s/q \"+new_dir \n",
    "os.system(cmd)"
   ]
  },
  {
   "cell_type": "markdown",
   "metadata": {},
   "source": [
    "##  rename"
   ]
  },
  {
   "cell_type": "code",
   "execution_count": 29,
   "metadata": {},
   "outputs": [],
   "source": [
    "#rename\n",
    "import os\n",
    "file_path = 'E:\\\\进击的巨人\\\\'\n",
    "files =  os.listdir(file_path)"
   ]
  },
  {
   "cell_type": "code",
   "execution_count": 30,
   "metadata": {},
   "outputs": [
    {
     "name": "stdout",
     "output_type": "stream",
     "text": [
      "[Shingeki no Kyojin][01].mkv\n",
      "[Shingeki no Kyojin][02]\n",
      "[Shingeki no Kyojin][03]\n",
      "[Shingeki no Kyojin][04]\n",
      "[Shingeki no Kyojin][05]\n",
      "[Shingeki no Kyojin][06]\n",
      "[Shingeki no Kyojin][07]\n",
      "[Shingeki no Kyojin][08]\n",
      "[Shingeki no Kyojin][09]\n",
      "[Shingeki no Kyojin][10]\n",
      "[Shingeki no Kyojin][11]\n",
      "[Shingeki no Kyojin][12]\n",
      "[Shingeki no Kyojin][13]\n",
      "[Shingeki no Kyojin][14]\n",
      "[Shingeki no Kyojin][15]\n",
      "[Shingeki no Kyojin][16]\n",
      "[Shingeki no Kyojin][17]\n",
      "[Shingeki no Kyojin][18]\n",
      "[Shingeki no Kyojin][19]\n",
      "[Shingeki no Kyojin][20]\n",
      "[Shingeki no Kyojin][21]\n",
      "[Shingeki no Kyojin][22]\n",
      "[Shingeki no Kyojin][23]\n",
      "[Shingeki no Kyojin][24]\n",
      "[Shingeki no Kyojin][25]\n",
      "[Shingeki no Kyojin][26]\n",
      "[Shingeki no Kyojin][27]\n",
      "[Shingeki no Kyojin][28]\n",
      "[Shingeki no Kyojin][29]\n",
      "[Shingeki no Kyojin][30]\n",
      "[Shingeki no Kyojin][31]\n",
      "[Shingeki no Kyojin][32]\n",
      "[Shingeki no Kyojin][33]\n",
      "[Shingeki no Kyojin][34]\n",
      "[Shingeki no Kyojin][35]\n",
      "[Shingeki no Kyojin][36]\n",
      "[Shingeki no Kyojin][37]\n",
      "[Shingeki no Kyojin][38]\n",
      "[Shingeki no Kyojin][39]\n",
      "[Shingeki no Kyojin][40]\n",
      "[Shingeki no Kyojin][41]\n",
      "[Shingeki no Kyojin][42]\n",
      "[Shingeki no Kyojin][43]\n",
      "[Shingeki no Kyojin][44]\n",
      "[Shingeki no Kyojin][45]\n",
      "[Shingeki no Kyojin][46]\n",
      "[Shingeki no Kyojin][47]\n",
      "[Shingeki no Kyojin][48]\n",
      "[Shingeki no Kyojin][49]\n",
      "[Shingeki no Kyojin][50]\n",
      "[Shingeki no Kyojin][51]\n",
      "[Shingeki no Kyojin][52]\n",
      "[Shingeki no Kyojin][53]\n",
      "[Shingeki no Kyojin][54]\n",
      "[Shingeki no Kyojin][55]\n",
      "[Shingeki no Kyojin][56]\n",
      "[Shingeki no Kyojin][57]\n",
      "[Shingeki no Kyojin][58]\n",
      "[Shingeki no Kyojin][59]\n"
     ]
    }
   ],
   "source": [
    "for i in files:\n",
    "    old_name = file_path+i\n",
    "    #i = i[15:-24]\n",
    "    new_name = file_path+i+'.mkv'\n",
    "    os.rename(old_name,new_name)\n",
    "    print(i)"
   ]
  },
  {
   "cell_type": "code",
   "execution_count": 12,
   "metadata": {},
   "outputs": [
    {
     "data": {
      "text/plain": [
       "'Shingeki no Kyojin][27]'"
      ]
     },
     "execution_count": 12,
     "metadata": {},
     "output_type": "execute_result"
    }
   ],
   "source": [
    "files[1][16:-24]"
   ]
  },
  {
   "cell_type": "code",
   "execution_count": null,
   "metadata": {},
   "outputs": [],
   "source": []
  }
 ],
 "metadata": {
  "kernelspec": {
   "display_name": "Python 3",
   "language": "python",
   "name": "python3"
  },
  "language_info": {
   "codemirror_mode": {
    "name": "ipython",
    "version": 3
   },
   "file_extension": ".py",
   "mimetype": "text/x-python",
   "name": "python",
   "nbconvert_exporter": "python",
   "pygments_lexer": "ipython3",
   "version": "3.8.3"
  }
 },
 "nbformat": 4,
 "nbformat_minor": 4
}
