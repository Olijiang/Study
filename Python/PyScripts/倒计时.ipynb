{
 "cells": [
  {
   "cell_type": "code",
   "execution_count": 40,
   "id": "3c573741",
   "metadata": {},
   "outputs": [],
   "source": [
    "import datetime, time, turtle"
   ]
  },
  {
   "cell_type": "code",
   "execution_count": 49,
   "id": "be8ddbe0",
   "metadata": {},
   "outputs": [],
   "source": [
    "def init():\n",
    "    turtle.setup(1200,800,450,150) #设置画布大小 1200 8200 为屏幕位置\n",
    "    turtle.speed(10)\n",
    "    turtle.penup()\n",
    "    turtle.pensize(15)\n",
    "    turtle.pencolor('blue')\n",
    "    turtle.hideturtle() \n",
    "    turtle.goto(-450,150)\n",
    "start = time.perf_counter()\n",
    "def reset():\n",
    "    turtle.clear()\n",
    "    turtle.penup()\n",
    "    turtle.goto(-450,150)\n",
    "def DrawNumber(i):\n",
    "    if i in [2,3,5,6,8,9,0]: turtle.pendown()\n",
    "    else:turtle.penup()\n",
    "    turtle.seth(0)\n",
    "    turtle.fd(100)\n",
    "    \n",
    "    if i in [2,3,4,7,8,9,0]: turtle.pendown()\n",
    "    else:turtle.penup()\n",
    "    turtle.seth(-90)\n",
    "    turtle.fd(100)\n",
    "    \n",
    "    if i in [3,4,5,6,7,8,9,0]: turtle.pendown()\n",
    "    else:turtle.penup()\n",
    "    turtle.fd(100)\n",
    "    \n",
    "    if i in [2,3,5,6,8,9,0]: turtle.pendown()\n",
    "    else:turtle.penup()\n",
    "    turtle.seth(-180)\n",
    "    turtle.fd(100)\n",
    "    \n",
    "    if i in [1,2,6,8,0]: turtle.pendown()\n",
    "    else:turtle.penup()\n",
    "    turtle.seth(90)\n",
    "    turtle.fd(100)\n",
    "    \n",
    "    if i in [2,3,4,5,6,8,9]: turtle.pendown()\n",
    "    else:turtle.penup()\n",
    "    turtle.seth(0)\n",
    "    turtle.fd(100)\n",
    "    turtle.penup()\n",
    "    turtle.seth(180)\n",
    "    turtle.fd(100)\n",
    "    turtle.pendown()\n",
    "\n",
    "    if i in [1,4,5,6,8,9,0]: turtle.pendown()\n",
    "    else:turtle.penup()\n",
    "    turtle.seth(90)\n",
    "    turtle.fd(100)\n",
    "    turtle.penup()\n",
    "    turtle.seth(0)\n",
    "    turtle.fd(150)\n",
    "    turtle.pendown()\n",
    "\n",
    "def DrawDot():\n",
    "    turtle.penup()\n",
    "    turtle.seth(-90)\n",
    "    turtle.fd(50)\n",
    "    turtle.dot(15)\n",
    "    turtle.fd(100)\n",
    "    turtle.dot(15)\n",
    "    turtle.seth(90)\n",
    "    turtle.fd(150)\n",
    "    turtle.seth(0)\n",
    "    turtle.fd(50)\n",
    "init()"
   ]
  },
  {
   "cell_type": "code",
   "execution_count": null,
   "id": "c6002c47",
   "metadata": {},
   "outputs": [],
   "source": [
    "end = time.perf_counter()\n",
    "timegap = int(end-start)\n",
    "settime = 60*60*3\n",
    "\n",
    "hour = int(timegap/3600)\n",
    "minute = int(timegap%3600/60)\n",
    "second = int(timegap%60)\n"
   ]
  },
  {
   "cell_type": "code",
   "execution_count": 50,
   "id": "f37a64f1",
   "metadata": {},
   "outputs": [],
   "source": [
    "DrawNumber(2)\n"
   ]
  },
  {
   "cell_type": "code",
   "execution_count": 51,
   "id": "e37e6b02",
   "metadata": {},
   "outputs": [],
   "source": [
    "turtle.done()"
   ]
  },
  {
   "cell_type": "code",
   "execution_count": 45,
   "id": "54ebde1b",
   "metadata": {},
   "outputs": [],
   "source": [
    "DrawNumber(hour)\n",
    "\n",
    "DrawDot()\n",
    "\n",
    "DrawNumber(int(minute/10))\n",
    "\n",
    "DrawNumber(minute%10)\n",
    "DrawDot()\n",
    "DrawNumber(int(second/10))\n",
    "DrawNumber(second%10)\n",
    "reset()\n",
    "end = time.perf_counter()\n",
    "timegap = int(end-start)\n"
   ]
  },
  {
   "cell_type": "code",
   "execution_count": 46,
   "id": "930525fd",
   "metadata": {},
   "outputs": [],
   "source": [
    "DrawNumber(2)"
   ]
  },
  {
   "cell_type": "code",
   "execution_count": 47,
   "id": "b68436a8",
   "metadata": {},
   "outputs": [],
   "source": [
    "turtle.done()"
   ]
  },
  {
   "cell_type": "code",
   "execution_count": null,
   "id": "5a97eb4d",
   "metadata": {},
   "outputs": [],
   "source": []
  },
  {
   "cell_type": "code",
   "execution_count": 92,
   "id": "7b6d7b7d",
   "metadata": {},
   "outputs": [
    {
     "data": {
      "text/plain": [
       "datetime.timedelta(microseconds=280287)"
      ]
     },
     "execution_count": 92,
     "metadata": {},
     "output_type": "execute_result"
    }
   ],
   "source": []
  },
  {
   "cell_type": "code",
   "execution_count": null,
   "id": "c6c1c112",
   "metadata": {},
   "outputs": [],
   "source": []
  },
  {
   "cell_type": "code",
   "execution_count": null,
   "id": "8d51880c",
   "metadata": {},
   "outputs": [],
   "source": []
  }
 ],
 "metadata": {
  "kernelspec": {
   "display_name": "Python 3 (ipykernel)",
   "language": "python",
   "name": "python3"
  },
  "language_info": {
   "codemirror_mode": {
    "name": "ipython",
    "version": 3
   },
   "file_extension": ".py",
   "mimetype": "text/x-python",
   "name": "python",
   "nbconvert_exporter": "python",
   "pygments_lexer": "ipython3",
   "version": "3.9.7"
  }
 },
 "nbformat": 4,
 "nbformat_minor": 5
}
