{
 "cells": [
  {
   "cell_type": "markdown",
   "metadata": {},
   "source": [
    "##  url:http://www.kaoyan365.cn/yingyu/cihui/229303.html\n",
    "\n",
    "### 目标地址结构  http://www.kaoyan365.cn/yingyu/cihui/＞＞241807＜＜.html"
   ]
  },
  {
   "cell_type": "code",
   "execution_count": null,
   "metadata": {},
   "outputs": [],
   "source": []
  },
  {
   "cell_type": "code",
   "execution_count": 40,
   "metadata": {},
   "outputs": [],
   "source": [
    "import requests,re,json\n",
    "from urllib import request, parse, error\n",
    "import socket\n",
    "import logging\n",
    "import ssl\n",
    "from bs4 import BeautifulSoup\n",
    "url = \"http://www.kaoyan365.cn/yingyu/cihui/229303.html\""
   ]
  },
  {
   "cell_type": "code",
   "execution_count": 41,
   "metadata": {},
   "outputs": [],
   "source": [
    "ua = 'Mozilla/5.0 (Windows NT 10.0; WOW64) AppleWebKit/537.36 (KHTML, like Gecko) Chrome/70.0.3538.25 Safari/537.36 Core/1.70.3861.400 QQBrowser/10.7.4313.400'\n",
    "headers = {'Accept': 'text/html,application/xhtml+xml,application/xml;q=0.9,image/webp,image/apng,*/*;q=0.8', 'Accept-Language': 'zh-CN,zh;q=0.9', 'User-Agent': ua}\n"
   ]
  },
  {
   "cell_type": "code",
   "execution_count": 42,
   "metadata": {},
   "outputs": [],
   "source": [
    "\n",
    "req = requests.get(url, headers=headers)\n",
    "req.status_code\n",
    "soup = BeautifulSoup(req.text, 'lxml') #lxml为解析器\n"
   ]
  },
  {
   "cell_type": "code",
   "execution_count": 43,
   "metadata": {},
   "outputs": [
    {
     "data": {
      "text/plain": [
       "[<a href=\"http://www.kaoyan365.cn/yingyu/cihui/229304.html\" target=\"_blank\">´ó¸Ù´Ê»ã(1)</a>,\n",
       " <a href=\"http://www.kaoyan365.cn/yingyu/cihui/229305.html\" target=\"_blank\">´ó¸Ù´Ê»ã(2)</a>,\n",
       " <a href=\"http://www.kaoyan365.cn/yingyu/cihui/229306.html\" target=\"_blank\">´ó¸Ù´Ê»ã(3)</a>,\n",
       " <a href=\"http://www.kaoyan365.cn/yingyu/cihui/229307.html\" target=\"_blank\">´ó¸Ù´Ê»ã(4)</a>,\n",
       " <a href=\"http://www.kaoyan365.cn/yingyu/cihui/229308.html\" target=\"_blank\">´ó¸Ù´Ê»ã(5)</a>,\n",
       " <a href=\"http://www.kaoyan365.cn/yingyu/cihui/229309.html\" target=\"_blank\">´ó¸Ù´Ê»ã(6)</a>,\n",
       " <a href=\"http://www.kaoyan365.cn/yingyu/cihui/229310.html\" target=\"_blank\">´ó¸Ù´Ê»ã(7)</a>,\n",
       " <a href=\"http://www.kaoyan365.cn/yingyu/cihui/229311.html\" target=\"_blank\">´ó¸Ù´Ê»ã(8)</a>,\n",
       " <a href=\"http://www.kaoyan365.cn/yingyu/cihui/229312.html\" target=\"_blank\">´ó¸Ù´Ê»ã(9)</a>,\n",
       " <a href=\"http://www.kaoyan365.cn/yingyu/cihui/229313.html\" target=\"_blank\">´ó¸Ù´Ê»ã(10)</a>,\n",
       " <a href=\"http://www.kaoyan365.cn/yingyu/cihui/229414.html\" target=\"_blank\">´ó¸Ù´Ê»ã(11)</a>,\n",
       " <a href=\"http://www.kaoyan365.cn/yingyu/cihui/229415.html\" target=\"_blank\">´ó¸Ù´Ê»ã(12)</a>,\n",
       " <a href=\"http://www.kaoyan365.cn/yingyu/cihui/229416.html\" target=\"_blank\">´ó¸Ù´Ê»ã(13)</a>,\n",
       " <a href=\"http://www.kaoyan365.cn/yingyu/cihui/229417.html\" target=\"_blank\">´ó¸Ù´Ê»ã(14)</a>,\n",
       " <a href=\"http://www.kaoyan365.cn/yingyu/cihui/229420.html\" target=\"_blank\">´ó¸Ù´Ê»ã(15)</a>,\n",
       " <a href=\"http://www.kaoyan365.cn/yingyu/cihui/229421.html\" target=\"_blank\">´ó¸Ù´Ê»ã(16)</a>,\n",
       " <a href=\"http://www.kaoyan365.cn/yingyu/cihui/229422.html\" target=\"_blank\">´ó¸Ù´Ê»ã(17)</a>,\n",
       " <a href=\"http://www.kaoyan365.cn/yingyu/cihui/229424.html\" target=\"_blank\">´ó¸Ù´Ê»ã(18)</a>,\n",
       " <a href=\"http://www.kaoyan365.cn/yingyu/cihui/229425.html\" target=\"_blank\">´ó¸Ù´Ê»ã(19)</a>,\n",
       " <a href=\"http://www.kaoyan365.cn/yingyu/cihui/229426.html\" target=\"_blank\">´ó¸Ù´Ê»ã(20)</a>,\n",
       " <a href=\"http://www.kaoyan365.cn/yingyu/cihui/229427.html\" target=\"_blank\">´ó¸Ù´Ê»ã(21)</a>,\n",
       " <a href=\"http://www.kaoyan365.cn/yingyu/cihui/229428.html\" target=\"_blank\">´ó¸Ù´Ê»ã(22)</a>,\n",
       " <a href=\"http://www.kaoyan365.cn/yingyu/cihui/229793.html\" target=\"_blank\">´ó¸Ù´Ê»ã(23)</a>,\n",
       " <a href=\"http://www.kaoyan365.cn/yingyu/cihui/229794.html\" target=\"_blank\">´ó¸Ù´Ê»ã(24)</a>,\n",
       " <a href=\"http://www.kaoyan365.cn/yingyu/cihui/229795.html\" target=\"_blank\">´ó¸Ù´Ê»ã(25)</a>,\n",
       " <a href=\"http://www.kaoyan365.cn/yingyu/cihui/229796.html\" target=\"_blank\">´ó¸Ù´Ê»ã(26)</a>,\n",
       " <a href=\"http://www.kaoyan365.cn/yingyu/cihui/229797.html\" target=\"_blank\">´ó¸Ù´Ê»ã(27)</a>,\n",
       " <a href=\"http://www.kaoyan365.cn/yingyu/cihui/229798.html\" target=\"_blank\">´ó¸Ù´Ê»ã(28)</a>,\n",
       " <a href=\"http://www.kaoyan365.cn/yingyu/cihui/229799.html\" target=\"_blank\">´ó¸Ù´Ê»ã(29)</a>,\n",
       " <a href=\"http://www.kaoyan365.cn/yingyu/cihui/229800.html\" target=\"_blank\">´ó¸Ù´Ê»ã(30)</a>,\n",
       " <a href=\"http://www.kaoyan365.cn/yingyu/cihui/229801.html\" target=\"_blank\">´ó¸Ù´Ê»ã(31)</a>,\n",
       " <a href=\"http://www.kaoyan365.cn/yingyu/cihui/229802.html\" target=\"_blank\">´ó¸Ù´Ê»ã(32)</a>,\n",
       " <a href=\"http://www.kaoyan365.cn/yingyu/cihui/230001.html\" target=\"_blank\">´ó¸Ù´Ê»ã(33)</a>,\n",
       " <a href=\"http://www.kaoyan365.cn/yingyu/cihui/230003.html\" target=\"_blank\">´ó¸Ù´Ê»ã(34)</a>,\n",
       " <a href=\"http://www.kaoyan365.cn/yingyu/cihui/230004.html\" target=\"_blank\">´ó¸Ù´Ê»ã(35)</a>,\n",
       " <a href=\"http://www.kaoyan365.cn/yingyu/cihui/230005.html\" target=\"_blank\">´ó¸Ù´Ê»ã(36)</a>,\n",
       " <a href=\"http://www.kaoyan365.cn/yingyu/cihui/230007.html\" target=\"_blank\">´ó¸Ù´Ê»ã(37)</a>,\n",
       " <a href=\"http://www.kaoyan365.cn/yingyu/cihui/230008.html\" target=\"_blank\">´ó¸Ù´Ê»ã(38)</a>,\n",
       " <a href=\"http://www.kaoyan365.cn/yingyu/cihui/230009.html\" target=\"_blank\">´ó¸Ù´Ê»ã(39)</a>,\n",
       " <a href=\"http://www.kaoyan365.cn/yingyu/cihui/230011.html\" target=\"_blank\">´ó¸Ù´Ê»ã(40)</a>,\n",
       " <a href=\"http://www.kaoyan365.cn/yingyu/cihui/230014.html\" target=\"_blank\">´ó¸Ù´Ê»ã(41)</a>,\n",
       " <a href=\"http://www.kaoyan365.cn/yingyu/cihui/230016.html\" target=\"_blank\">´ó¸Ù´Ê»ã(42)</a>,\n",
       " <a href=\"http://www.kaoyan365.cn/yingyu/cihui/230134.html\" target=\"_blank\">´ó¸Ù´Ê»ã(43)</a>,\n",
       " <a href=\"http://www.kaoyan365.cn/yingyu/cihui/230135.html\" target=\"_blank\">´ó¸Ù´Ê»ã(44)</a>,\n",
       " <a href=\"http://www.kaoyan365.cn/yingyu/cihui/230137.html\" target=\"_blank\">´ó¸Ù´Ê»ã(45)</a>,\n",
       " <a href=\"http://www.kaoyan365.cn/yingyu/cihui/230139.html\" target=\"_blank\">´ó¸Ù´Ê»ã(46)</a>,\n",
       " <a href=\"http://www.kaoyan365.cn/yingyu/cihui/230141.html\" target=\"_blank\">´ó¸Ù´Ê»ã(47)</a>,\n",
       " <a href=\"http://www.kaoyan365.cn/yingyu/cihui/230142.html\" target=\"_blank\">´ó¸Ù´Ê»ã(48)</a>,\n",
       " <a href=\"http://www.kaoyan365.cn/yingyu/cihui/230144.html\" target=\"_blank\">´ó¸Ù´Ê»ã(49)</a>,\n",
       " <a href=\"http://www.kaoyan365.cn/yingyu/cihui/230145.html\" target=\"_blank\">´ó¸Ù´Ê»ã(50)</a>,\n",
       " <a href=\"http://www.kaoyan365.cn/yingyu/cihui/230147.html\" target=\"_blank\">´ó¸Ù´Ê»ã(51)</a>,\n",
       " <a href=\"http://www.kaoyan365.cn/yingyu/cihui/230148.html\" target=\"_blank\">´ó¸Ù´Ê»ã(52)</a>,\n",
       " <a href=\"http://www.kaoyan365.cn/yingyu/cihui/230296.html\" target=\"_blank\">´ó¸Ù´Ê»ã(53)</a>,\n",
       " <a href=\"http://www.kaoyan365.cn/yingyu/cihui/230297.html\" target=\"_blank\">´ó¸Ù´Ê»ã(54)</a>,\n",
       " <a href=\"http://www.kaoyan365.cn/yingyu/cihui/230298.html\" target=\"_blank\">´ó¸Ù´Ê»ã(55)</a>,\n",
       " <a href=\"http://www.kaoyan365.cn/yingyu/cihui/230299.html\" target=\"_blank\">´ó¸Ù´Ê»ã(56)</a>,\n",
       " <a href=\"http://www.kaoyan365.cn/yingyu/cihui/230300.html\" target=\"_blank\">´ó¸Ù´Ê»ã(57)</a>,\n",
       " <a href=\"http://www.kaoyan365.cn/yingyu/cihui/230301.html\" target=\"_blank\">´ó¸Ù´Ê»ã(58)</a>,\n",
       " <a href=\"http://www.kaoyan365.cn/yingyu/cihui/230302.html\" target=\"_blank\">´ó¸Ù´Ê»ã(59)</a>,\n",
       " <a href=\"http://www.kaoyan365.cn/yingyu/cihui/230303.html\" target=\"_blank\">´ó¸Ù´Ê»ã(60)</a>,\n",
       " <a href=\"http://www.kaoyan365.cn/yingyu/cihui/230304.html\" target=\"_blank\">´ó¸Ù´Ê»ã(61)</a>,\n",
       " <a href=\"http://www.kaoyan365.cn/yingyu/cihui/230305.html\" target=\"_blank\">´ó¸Ù´Ê»ã(62)</a>,\n",
       " <a href=\"http://www.kaoyan365.cn/yingyu/cihui/230560.html\" target=\"_blank\">´ó¸Ù´Ê»ã(63)</a>,\n",
       " <a href=\"http://www.kaoyan365.cn/yingyu/cihui/230561.html\" target=\"_blank\">´ó¸Ù´Ê»ã(64)</a>,\n",
       " <a href=\"http://www.kaoyan365.cn/yingyu/cihui/230563.html\" target=\"_blank\">´ó¸Ù´Ê»ã(65)</a>,\n",
       " <a href=\"http://www.kaoyan365.cn/yingyu/cihui/230564.html\" target=\"_blank\">´ó¸Ù´Ê»ã(66)</a>,\n",
       " <a href=\"http://www.kaoyan365.cn/yingyu/cihui/230566.html\" target=\"_blank\">´ó¸Ù´Ê»ã(67)</a>,\n",
       " <a href=\"http://www.kaoyan365.cn/yingyu/cihui/230567.html\" target=\"_blank\">´ó¸Ù´Ê»ã(68)</a>,\n",
       " <a href=\"http://www.kaoyan365.cn/yingyu/cihui/230569.html\" target=\"_blank\">´ó¸Ù´Ê»ã(69)</a>,\n",
       " <a href=\"http://www.kaoyan365.cn/yingyu/cihui/230570.html\" target=\"_blank\">´ó¸Ù´Ê»ã(70)</a>,\n",
       " <a href=\"http://www.kaoyan365.cn/yingyu/cihui/230571.html\" target=\"_blank\">´ó¸Ù´Ê»ã(71)</a>,\n",
       " <a href=\"http://www.kaoyan365.cn/yingyu/cihui/230572.html\" target=\"_blank\">´ó¸Ù´Ê»ã(72)</a>,\n",
       " <a href=\"http://www.kaoyan365.cn/yingyu/cihui/232131.html\" target=\"_blank\">´ó¸Ù´Ê»ã(73)</a>,\n",
       " <a href=\"http://www.kaoyan365.cn/yingyu/cihui/232132.html\" target=\"_blank\">´ó¸Ù´Ê»ã(74)</a>,\n",
       " <a href=\"http://www.kaoyan365.cn/yingyu/cihui/232133.html\" target=\"_blank\">´ó¸Ù´Ê»ã(75)</a>,\n",
       " <a href=\"http://www.kaoyan365.cn/yingyu/cihui/232134.html\" target=\"_blank\">´ó¸Ù´Ê»ã(76)</a>,\n",
       " <a href=\"http://www.kaoyan365.cn/yingyu/cihui/232135.html\" target=\"_blank\">´ó¸Ù´Ê»ã(77)</a>,\n",
       " <a href=\"http://www.kaoyan365.cn/yingyu/cihui/232136.html\" target=\"_blank\">´ó¸Ù´Ê»ã(78)</a>,\n",
       " <a href=\"http://www.kaoyan365.cn/yingyu/cihui/232137.html\" target=\"_blank\">´ó¸Ù´Ê»ã(79)</a>,\n",
       " <a href=\"http://www.kaoyan365.cn/yingyu/cihui/232138.html\" target=\"_blank\">´ó¸Ù´Ê»ã(80)</a>,\n",
       " <a href=\"http://www.kaoyan365.cn/yingyu/cihui/232139.html\" target=\"_blank\">´ó¸Ù´Ê»ã(81)</a>,\n",
       " <a href=\"http://www.kaoyan365.cn/yingyu/cihui/232140.html\" target=\"_blank\">´ó¸Ù´Ê»ã(82)</a>,\n",
       " <a href=\"http://www.kaoyan365.cn/yingyu/cihui/233190.html\" target=\"_blank\">´ó¸Ù´Ê»ã(83)</a>,\n",
       " <a href=\"http://www.kaoyan365.cn/yingyu/cihui/233192.html\" target=\"_blank\">´ó¸Ù´Ê»ã(84)</a>,\n",
       " <a href=\"http://www.kaoyan365.cn/yingyu/cihui/233193.html\" target=\"_blank\">´ó¸Ù´Ê»ã(85)</a>,\n",
       " <a href=\"http://www.kaoyan365.cn/yingyu/cihui/233194.html\" target=\"_blank\">´ó¸Ù´Ê»ã(86)</a>,\n",
       " <a href=\"http://www.kaoyan365.cn/yingyu/cihui/233195.html\" target=\"_blank\">´ó¸Ù´Ê»ã(87)</a>,\n",
       " <a href=\"http://www.kaoyan365.cn/yingyu/cihui/233197.html\" target=\"_blank\">´ó¸Ù´Ê»ã(88)</a>,\n",
       " <a href=\"http://www.kaoyan365.cn/yingyu/cihui/233198.html\" target=\"_blank\">´ó¸Ù´Ê»ã(89)</a>,\n",
       " <a href=\"http://www.kaoyan365.cn/yingyu/cihui/233199.html\" target=\"_blank\">´ó¸Ù´Ê»ã(90)</a>,\n",
       " <a href=\"http://www.kaoyan365.cn/yingyu/cihui/233201.html\" target=\"_blank\">´ó¸Ù´Ê»ã(91)</a>,\n",
       " <a href=\"http://www.kaoyan365.cn/yingyu/cihui/233202.html\" target=\"_blank\">´ó¸Ù´Ê»ã(92)</a>,\n",
       " <a href=\"http://www.kaoyan365.cn/yingyu/cihui/233716.html\" target=\"_blank\">´ó¸Ù´Ê»ã(93)</a>,\n",
       " <a href=\"http://www.kaoyan365.cn/yingyu/cihui/233717.html\" target=\"_blank\">´ó¸Ù´Ê»ã(94)</a>,\n",
       " <a href=\"http://www.kaoyan365.cn/yingyu/cihui/233718.html\" target=\"_blank\">´ó¸Ù´Ê»ã(95)</a>,\n",
       " <a href=\"http://www.kaoyan365.cn/yingyu/cihui/233719.html\" target=\"_blank\">´ó¸Ù´Ê»ã(96)</a>,\n",
       " <a href=\"http://www.kaoyan365.cn/yingyu/cihui/233720.html\" target=\"_blank\">´ó¸Ù´Ê»ã(97)</a>,\n",
       " <a href=\"http://www.kaoyan365.cn/yingyu/cihui/233721.html\" target=\"_blank\">´ó¸Ù´Ê»ã(98)</a>,\n",
       " <a href=\"http://www.kaoyan365.cn/yingyu/cihui/233722.html\" target=\"_blank\">´ó¸Ù´Ê»ã(99)</a>,\n",
       " <a href=\"http://www.kaoyan365.cn/yingyu/cihui/233723.html\" target=\"_blank\">´ó¸Ù´Ê»ã(100)</a>,\n",
       " <a href=\"http://www.kaoyan365.cn/yingyu/cihui/233724.html\" target=\"_blank\">´ó¸Ù´Ê»ã(101)</a>,\n",
       " <a href=\"http://www.kaoyan365.cn/yingyu/cihui/233727.html\" target=\"_blank\">´ó¸Ù´Ê»ã(102)</a>,\n",
       " <a href=\"http://www.kaoyan365.cn/yingyu/cihui/239700.html\" target=\"_blank\">´ó¸Ù´Ê»ã(103)</a>,\n",
       " <a href=\"http://www.kaoyan365.cn/yingyu/cihui/239701.html\" target=\"_blank\">´ó¸Ù´Ê»ã(104)</a>,\n",
       " <a href=\"http://www.kaoyan365.cn/yingyu/cihui/239702.html\" target=\"_blank\">´ó¸Ù´Ê»ã(105)</a>,\n",
       " <a href=\"http://www.kaoyan365.cn/yingyu/cihui/239703.html\" target=\"_blank\">´ó¸Ù´Ê»ã(106)</a>,\n",
       " <a href=\"http://www.kaoyan365.cn/yingyu/cihui/239704.html\" target=\"_blank\">´ó¸Ù´Ê»ã(107)</a>,\n",
       " <a href=\"http://www.kaoyan365.cn/yingyu/cihui/239705.html\" target=\"_blank\">´ó¸Ù´Ê»ã(108)</a>,\n",
       " <a href=\"http://www.kaoyan365.cn/yingyu/cihui/239706.html\" target=\"_blank\">´ó¸Ù´Ê»ã(109)</a>,\n",
       " <a href=\"http://www.kaoyan365.cn/yingyu/cihui/239707.html\" target=\"_blank\">´ó¸Ù´Ê»ã(110)</a>,\n",
       " <a href=\"http://www.kaoyan365.cn/yingyu/cihui/239708.html\" target=\"_blank\">´ó¸Ù´Ê»ã(111)</a>,\n",
       " <a href=\"http://www.kaoyan365.cn/yingyu/cihui/239709.html\" target=\"_blank\">´ó¸Ù´Ê»ã(112)</a>,\n",
       " <a href=\"http://www.kaoyan365.cn/yingyu/cihui/240028.html\" target=\"_blank\">´ó¸Ù´Ê»ã(113)</a>,\n",
       " <a href=\"http://www.kaoyan365.cn/yingyu/cihui/240029.html\" target=\"_blank\">´ó¸Ù´Ê»ã(114)</a>,\n",
       " <a href=\"http://www.kaoyan365.cn/yingyu/cihui/240030.html\" target=\"_blank\">´ó¸Ù´Ê»ã(115)</a>,\n",
       " <a href=\"http://www.kaoyan365.cn/yingyu/cihui/240031.html\" target=\"_blank\">´ó¸Ù´Ê»ã(116)</a>,\n",
       " <a href=\"http://www.kaoyan365.cn/yingyu/cihui/240033.html\" target=\"_blank\">´ó¸Ù´Ê»ã(117)</a>,\n",
       " <a href=\"http://www.kaoyan365.cn/yingyu/cihui/240035.html\" target=\"_blank\">´ó¸Ù´Ê»ã(118)</a>,\n",
       " <a href=\"http://www.kaoyan365.cn/yingyu/cihui/240036.html\" target=\"_blank\">´ó¸Ù´Ê»ã(119)</a>,\n",
       " <a href=\"http://www.kaoyan365.cn/yingyu/cihui/240039.html\" target=\"_blank\">´ó¸Ù´Ê»ã(120)</a>,\n",
       " <a href=\"http://www.kaoyan365.cn/yingyu/cihui/240041.html\" target=\"_blank\">´ó¸Ù´Ê»ã(121)</a>,\n",
       " <a href=\"http://www.kaoyan365.cn/yingyu/cihui/240042.html\" target=\"_blank\">´ó¸Ù´Ê»ã(122)</a>,\n",
       " <a href=\"http://www.kaoyan365.cn/yingyu/cihui/240625.html\" target=\"_blank\">´ó¸Ù´Ê»ã(123)</a>,\n",
       " <a href=\"http://www.kaoyan365.cn/yingyu/cihui/240627.html\" target=\"_blank\">´ó¸Ù´Ê»ã(124)</a>,\n",
       " <a href=\"http://www.kaoyan365.cn/yingyu/cihui/240628.html\" target=\"_blank\">´ó¸Ù´Ê»ã(125)</a>,\n",
       " <a href=\"http://www.kaoyan365.cn/yingyu/cihui/240629.html\" target=\"_blank\">´ó¸Ù´Ê»ã(126)</a>,\n",
       " <a href=\"http://www.kaoyan365.cn/yingyu/cihui/240630.html\" target=\"_blank\">´ó¸Ù´Ê»ã(127)</a>,\n",
       " <a href=\"http://www.kaoyan365.cn/yingyu/cihui/240631.html\" target=\"_blank\">´ó¸Ù´Ê»ã(128)</a>,\n",
       " <a href=\"http://www.kaoyan365.cn/yingyu/cihui/240633.html\" target=\"_blank\">´ó¸Ù´Ê»ã(129)</a>,\n",
       " <a href=\"http://www.kaoyan365.cn/yingyu/cihui/240634.html\" target=\"_blank\">´ó¸Ù´Ê»ã(130)</a>,\n",
       " <a href=\"http://www.kaoyan365.cn/yingyu/cihui/240636.html\" target=\"_blank\">´ó¸Ù´Ê»ã(131)</a>,\n",
       " <a href=\"http://www.kaoyan365.cn/yingyu/cihui/240637.html\" target=\"_blank\">´ó¸Ù´Ê»ã(132)</a>,\n",
       " <a href=\"http://www.kaoyan365.cn/yingyu/cihui/240862.html\" target=\"_blank\">´ó¸Ù´Ê»ã(133)</a>,\n",
       " <a href=\"http://www.kaoyan365.cn/yingyu/cihui/240864.html\" target=\"_blank\">´ó¸Ù´Ê»ã(134)</a>,\n",
       " <a href=\"http://www.kaoyan365.cn/yingyu/cihui/240865.html\" target=\"_blank\">´ó¸Ù´Ê»ã(135)</a>,\n",
       " <a href=\"http://www.kaoyan365.cn/yingyu/cihui/240866.html\" target=\"_blank\">´ó¸Ù´Ê»ã(136)</a>,\n",
       " <a href=\"http://www.kaoyan365.cn/yingyu/cihui/240873.html\" target=\"_blank\">´ó¸Ù´Ê»ã(137)</a>,\n",
       " <a href=\"http://www.kaoyan365.cn/yingyu/cihui/240874.html\" target=\"_blank\">´ó¸Ù´Ê»ã(138)</a>,\n",
       " <a href=\"http://www.kaoyan365.cn/yingyu/cihui/240875.html\" target=\"_blank\">´ó¸Ù´Ê»ã(139)</a>,\n",
       " <a href=\"http://www.kaoyan365.cn/yingyu/cihui/240877.html\" target=\"_blank\">´ó¸Ù´Ê»ã(140)</a>,\n",
       " <a href=\"http://www.kaoyan365.cn/yingyu/cihui/240878.html\" target=\"_blank\">´ó¸Ù´Ê»ã(141)</a>,\n",
       " <a href=\"http://www.kaoyan365.cn/yingyu/cihui/240879.html\" target=\"_blank\">´ó¸Ù´Ê»ã(142)</a>,\n",
       " <a href=\"http://www.kaoyan365.cn/yingyu/cihui/241049.html\" target=\"_blank\">´ó¸Ù´Ê»ã(143)</a>,\n",
       " <a href=\"http://www.kaoyan365.cn/yingyu/cihui/241050.html\" target=\"_blank\">´ó¸Ù´Ê»ã(144)</a>,\n",
       " <a href=\"http://www.kaoyan365.cn/yingyu/cihui/241051.html\" target=\"_blank\">´ó¸Ù´Ê»ã(145)</a>,\n",
       " <a href=\"http://www.kaoyan365.cn/yingyu/cihui/241052.html\" target=\"_blank\">´ó¸Ù´Ê»ã(146)</a>,\n",
       " <a href=\"http://www.kaoyan365.cn/yingyu/cihui/241053.html\" target=\"_blank\">´ó¸Ù´Ê»ã(147)</a>,\n",
       " <a href=\"http://www.kaoyan365.cn/yingyu/cihui/241054.html\" target=\"_blank\">´ó¸Ù´Ê»ã(148)</a>,\n",
       " <a href=\"http://www.kaoyan365.cn/yingyu/cihui/241055.html\" target=\"_blank\">´ó¸Ù´Ê»ã(149)</a>,\n",
       " <a href=\"http://www.kaoyan365.cn/yingyu/cihui/241056.html\" target=\"_blank\">´ó¸Ù´Ê»ã(150)</a>,\n",
       " <a href=\"http://www.kaoyan365.cn/yingyu/cihui/241057.html\" target=\"_blank\">´ó¸Ù´Ê»ã(151)</a>,\n",
       " <a href=\"http://www.kaoyan365.cn/yingyu/cihui/241058.html\" target=\"_blank\">´ó¸Ù´Ê»ã(152)</a>,\n",
       " <a href=\"http://www.kaoyan365.cn/yingyu/cihui/241223.html\" target=\"_blank\">´ó¸Ù´Ê»ã(153)</a>,\n",
       " <a href=\"http://www.kaoyan365.cn/yingyu/cihui/241224.html\" target=\"_blank\">´ó¸Ù´Ê»ã(154)</a>,\n",
       " <a href=\"http://www.kaoyan365.cn/yingyu/cihui/241227.html\" target=\"_blank\">´ó¸Ù´Ê»ã(155)</a>,\n",
       " <a href=\"http://www.kaoyan365.cn/yingyu/cihui/241228.html\" target=\"_blank\">´ó¸Ù´Ê»ã(156)</a>,\n",
       " <a href=\"http://www.kaoyan365.cn/yingyu/cihui/241229.html\" target=\"_blank\">´ó¸Ù´Ê»ã(157)</a>,\n",
       " <a href=\"http://www.kaoyan365.cn/yingyu/cihui/241230.html\" target=\"_blank\">´ó¸Ù´Ê»ã(158)</a>,\n",
       " <a href=\"http://www.kaoyan365.cn/yingyu/cihui/241231.html\" target=\"_blank\">´ó¸Ù´Ê»ã(159)</a>,\n",
       " <a href=\"http://www.kaoyan365.cn/yingyu/cihui/241233.html\" target=\"_blank\">´ó¸Ù´Ê»ã(160)</a>,\n",
       " <a href=\"http://www.kaoyan365.cn/yingyu/cihui/241234.html\" target=\"_blank\">´ó¸Ù´Ê»ã(161)</a>,\n",
       " <a href=\"http://www.kaoyan365.cn/yingyu/cihui/241235.html\" target=\"_blank\">´ó¸Ù´Ê»ã(162)</a>,\n",
       " <a href=\"http://www.kaoyan365.cn/yingyu/cihui/241477.html\" target=\"_blank\">´ó¸Ù´Ê»ã(163)</a>,\n",
       " <a href=\"http://www.kaoyan365.cn/yingyu/cihui/241478.html\" target=\"_blank\">´ó¸Ù´Ê»ã(164)</a>,\n",
       " <a href=\"http://www.kaoyan365.cn/yingyu/cihui/241479.html\" target=\"_blank\">´ó¸Ù´Ê»ã(165)</a>,\n",
       " <a href=\"http://www.kaoyan365.cn/yingyu/cihui/241480.html\" target=\"_blank\">´ó¸Ù´Ê»ã(166)</a>,\n",
       " <a href=\"http://www.kaoyan365.cn/yingyu/cihui/241481.html\" target=\"_blank\">´ó¸Ù´Ê»ã(167)</a>,\n",
       " <a href=\"http://www.kaoyan365.cn/yingyu/cihui/241482.html\" target=\"_blank\">´ó¸Ù´Ê»ã(168)</a>,\n",
       " <a href=\"http://www.kaoyan365.cn/yingyu/cihui/241483.html\" target=\"_blank\">´ó¸Ù´Ê»ã(169)</a>,\n",
       " <a href=\"http://www.kaoyan365.cn/yingyu/cihui/241484.html\" target=\"_blank\">´ó¸Ù´Ê»ã(170)</a>,\n",
       " <a href=\"http://www.kaoyan365.cn/yingyu/cihui/241486.html\" target=\"_blank\">´ó¸Ù´Ê»ã(171)</a>,\n",
       " <a href=\"http://www.kaoyan365.cn/yingyu/cihui/241487.html\" target=\"_blank\">´ó¸Ù´Ê»ã(172)</a>,\n",
       " <a href=\"http://www.kaoyan365.cn/yingyu/cihui/241806.html\" target=\"_blank\">´ó¸Ù´Ê»ã(173)</a>,\n",
       " <a href=\"http://www.kaoyan365.cn/yingyu/cihui/241807.html\" target=\"_blank\">´ó¸Ù´Ê»ã(174)</a>,\n",
       " <a href=\"http://www.kaoyan365.cn/yingyu/cihui/241808.html\" target=\"_blank\">´ó¸Ù´Ê»ã(175)</a>,\n",
       " <a href=\"http://www.kaoyan365.cn/yingyu/cihui/241809.html\" target=\"_blank\">´ó¸Ù´Ê»ã(176)</a>,\n",
       " <a href=\"http://www.kaoyan365.cn/yingyu/cihui/241810.html\" target=\"_blank\">´ó¸Ù´Ê»ã(177)</a>,\n",
       " <a href=\"http://www.kaoyan365.cn/yingyu/cihui/241811.html\" target=\"_blank\">´ó¸Ù´Ê»ã(178)</a>,\n",
       " <a href=\"http://www.kaoyan365.cn/yingyu/cihui/241812.html\" target=\"_blank\">´ó¸Ù´Ê»ã(179)</a>,\n",
       " <a href=\"http://www.kaoyan365.cn/yingyu/cihui/241813.html\" target=\"_blank\">´ó¸Ù´Ê»ã(180)</a>,\n",
       " <a href=\"http://www.kaoyan365.cn/yingyu/cihui/241814.html\" target=\"_blank\">´ó¸Ù´Ê»ã(181)</a>,\n",
       " <a href=\"http://www.kaoyan365.cn/yingyu/cihui/241815.html\" target=\"_blank\">´ó¸Ù´Ê»ã(182)</a>,\n",
       " <a href=\"http://www.kaoyan365.cn/yingyu/cihui/241894.html\" target=\"_blank\">´ó¸Ù´Ê»ã(183)</a>,\n",
       " <a href=\"http://www.kaoyan365.cn/yingyu/cihui/241895.html\" target=\"_blank\">´ó¸Ù´Ê»ã(184)</a>,\n",
       " <a href=\"http://www.kaoyan365.cn/yingyu/cihui/241897.html\" target=\"_blank\">´ó¸Ù´Ê»ã(185)</a>,\n",
       " <a href=\"http://www.kaoyan365.cn/yingyu/cihui/241898.html\" target=\"_blank\">´ó¸Ù´Ê»ã(186)</a>,\n",
       " <a href=\"http://www.kaoyan365.cn/yingyu/cihui/241899.html\" target=\"_blank\">´ó¸Ù´Ê»ã(187)</a>,\n",
       " <a href=\"http://www.kaoyan365.cn/yingyu/cihui/241901.html\" target=\"_blank\">´ó¸Ù´Ê»ã(188)</a>,\n",
       " <a href=\"http://www.kaoyan365.cn/yingyu/cihui/241902.html\" target=\"_blank\">´ó¸Ù´Ê»ã(189)</a>,\n",
       " <a href=\"http://www.kaoyan365.cn/yingyu/cihui/241903.html\" target=\"_blank\">´ó¸Ù´Ê»ã(190)</a>,\n",
       " <a href=\"http://www.kaoyan365.cn/yingyu/cihui/241904.html\" target=\"_blank\">´ó¸Ù´Ê»ã(191)</a>,\n",
       " <a href=\"http://www.kaoyan365.cn/yingyu/cihui/241905.html\" target=\"_blank\">´ó¸Ù´Ê»ã(192)</a>,\n",
       " <a href=\"http://www.kaoyan365.cn/yingyu/cihui/242194.html\" target=\"_blank\">´ó¸Ù´Ê»ã(193)</a>,\n",
       " <a href=\"http://www.kaoyan365.cn/yingyu/cihui/242195.html\" target=\"_blank\">´ó¸Ù´Ê»ã(194)</a>,\n",
       " <a href=\"http://www.kaoyan365.cn/yingyu/cihui/242196.html\" target=\"_blank\">´ó¸Ù´Ê»ã(195)</a>,\n",
       " <a href=\"http://www.kaoyan365.cn/yingyu/cihui/242197.html\" target=\"_blank\">´ó¸Ù´Ê»ã(196)</a>,\n",
       " <a href=\"http://www.kaoyan365.cn/yingyu/cihui/242198.html\" target=\"_blank\">´ó¸Ù´Ê»ã(197)</a>,\n",
       " <a href=\"http://www.kaoyan365.cn/yingyu/cihui/242199.html\" target=\"_blank\">´ó¸Ù´Ê»ã(198)</a>,\n",
       " <a href=\"http://www.kaoyan365.cn/yingyu/cihui/242200.html\" target=\"_blank\">´ó¸Ù´Ê»ã(199)</a>,\n",
       " <a href=\"http://www.kaoyan365.cn/yingyu/cihui/242201.html\" target=\"_blank\">´ó¸Ù´Ê»ã(200)</a>,\n",
       " <a href=\"http://www.kaoyan365.cn/yingyu/cihui/242202.html\" target=\"_blank\">´ó¸Ù´Ê»ã(201)</a>,\n",
       " <a href=\"http://www.kaoyan365.cn/yingyu/cihui/242203.html\" target=\"_blank\">´ó¸Ù´Ê»ã(202)</a>,\n",
       " <a href=\"http://www.kaoyan365.cn/yingyu/cihui/242477.html\" target=\"_blank\">´ó¸Ù´Ê»ã(203)</a>,\n",
       " <a href=\"http://www.kaoyan365.cn/yingyu/cihui/242478.html\" target=\"_blank\">´ó¸Ù´Ê»ã(204)</a>,\n",
       " <a href=\"http://www.kaoyan365.cn/yingyu/cihui/242479.html\" target=\"_blank\">´ó¸Ù´Ê»ã(205)</a>,\n",
       " <a href=\"http://www.kaoyan365.cn/yingyu/cihui/242480.html\" target=\"_blank\">´ó¸Ù´Ê»ã(206)</a>,\n",
       " <a href=\"http://www.kaoyan365.cn/yingyu/cihui/242481.html\" target=\"_blank\">´ó¸Ù´Ê»ã(207)</a>,\n",
       " <a href=\"http://www.kaoyan365.cn/yingyu/cihui/242482.html\" target=\"_blank\">´ó¸Ù´Ê»ã(208)</a>,\n",
       " <a href=\"http://www.kaoyan365.cn/yingyu/cihui/242483.html\" target=\"_blank\">´ó¸Ù´Ê»ã(209)</a>,\n",
       " <a href=\"http://www.kaoyan365.cn/yingyu/cihui/242484.html\" target=\"_blank\">´ó¸Ù´Ê»ã(210)</a>,\n",
       " <a href=\"http://www.kaoyan365.cn/yingyu/cihui/242486.html\" target=\"_blank\">´ó¸Ù´Ê»ã(211)</a>,\n",
       " <a href=\"http://www.kaoyan365.cn/yingyu/cihui/242487.html\" target=\"_blank\">´ó¸Ù´Ê»ã(212)</a>]"
      ]
     },
     "execution_count": 43,
     "metadata": {},
     "output_type": "execute_result"
    }
   ],
   "source": [
    "target = soup.select('tbody')[1].select('td a')\n",
    "target"
   ]
  },
  {
   "cell_type": "code",
   "execution_count": 57,
   "metadata": {},
   "outputs": [
    {
     "data": {
      "text/plain": [
       "'11'"
      ]
     },
     "execution_count": 57,
     "metadata": {},
     "output_type": "execute_result"
    }
   ],
   "source": [
    "str(target[10])[84:-5]"
   ]
  },
  {
   "cell_type": "code",
   "execution_count": 60,
   "metadata": {},
   "outputs": [
    {
     "data": {
      "text/plain": [
       "'http://www.kaoyan365.cn/yingyu/cihui/229313.html'"
      ]
     },
     "execution_count": 60,
     "metadata": {},
     "output_type": "execute_result"
    }
   ],
   "source": [
    "Turl = str(target[9])[9:-32]\n",
    "Turl"
   ]
  },
  {
   "cell_type": "code",
   "execution_count": 61,
   "metadata": {},
   "outputs": [],
   "source": [
    "req2 = requests.get(Turl, headers=headers)\n",
    "req2.encoding = 'gb2312'"
   ]
  },
  {
   "cell_type": "code",
   "execution_count": null,
   "metadata": {
    "scrolled": true
   },
   "outputs": [],
   "source": [
    "req2.text"
   ]
  },
  {
   "cell_type": "code",
   "execution_count": null,
   "metadata": {},
   "outputs": [],
   "source": []
  },
  {
   "cell_type": "code",
   "execution_count": null,
   "metadata": {},
   "outputs": [],
   "source": []
  },
  {
   "cell_type": "code",
   "execution_count": 54,
   "metadata": {},
   "outputs": [],
   "source": [
    "#re\n",
    "pa = re.compile('<p>\\d\\d .{0,50}</p>')\n",
    "result = pa.findall(req2.text)"
   ]
  },
  {
   "cell_type": "code",
   "execution_count": 55,
   "metadata": {},
   "outputs": [
    {
     "data": {
      "text/plain": [
       "[]"
      ]
     },
     "execution_count": 55,
     "metadata": {},
     "output_type": "execute_result"
    }
   ],
   "source": [
    "result"
   ]
  },
  {
   "cell_type": "code",
   "execution_count": 26,
   "metadata": {},
   "outputs": [
    {
     "data": {
      "text/plain": [
       "'abundant a.大量(充足)的;(in)丰富(富裕)的'"
      ]
     },
     "execution_count": 26,
     "metadata": {},
     "output_type": "execute_result"
    }
   ],
   "source": [
    "mi = result[1][6:-4]\n",
    "mi"
   ]
  },
  {
   "cell_type": "code",
   "execution_count": 1,
   "metadata": {},
   "outputs": [],
   "source": []
  },
  {
   "cell_type": "code",
   "execution_count": 2,
   "metadata": {},
   "outputs": [],
   "source": []
  },
  {
   "cell_type": "code",
   "execution_count": 3,
   "metadata": {},
   "outputs": [],
   "source": []
  },
  {
   "cell_type": "code",
   "execution_count": 4,
   "metadata": {},
   "outputs": [
    {
     "name": "stdout",
     "output_type": "stream",
     "text": [
      "<a href=\"http://www.kaoyan365.cn/yingyu/cihui/229305.html\" target=\"_blank\">大纲词汇(2)</a>\n"
     ]
    }
   ],
   "source": []
  },
  {
   "cell_type": "code",
   "execution_count": 63,
   "metadata": {},
   "outputs": [],
   "source": [
    "\n",
    "import requests,re,time \n",
    "from bs4 import BeautifulSoup\n",
    "from requests.models import codes\n",
    "Homepage = \"http://www.kaoyan365.cn/yingyu/cihui/229303.html\"\n",
    "\n",
    "ua = 'Mozilla/5.0 (Windows NT 10.0; WOW64) AppleWebKit/537.36 (KHTML, like Gecko) Chrome/70.0.3538.25 Safari/537.36 Core/1.70.3861.400 QQBrowser/10.7.4313.400'\n",
    "headers = {'Accept': 'text/html,application/xhtml+xml,application/xml;q=0.9,image/webp,image/apng,*/*;q=0.8', 'Accept-Language': 'zh-CN,zh;q=0.9', 'User-Agent': ua}\n",
    "\n",
    "\n",
    "def get_content(url):\n",
    "    try:\n",
    "        response = requests.get(url, headers=headers)\n",
    "        response.encoding = 'gb2312'\n",
    "        if(response.status_code==200):\n",
    "            return response.text\n",
    "        else:print(\"ERROR URL:{0}\".format(url))\n",
    "    except:\n",
    "        print(\"ERROR URL:{0}\".format(url))\n",
    "\n",
    "html = get_content(Homepage)\n",
    "soup = BeautifulSoup(html,'html.parser')\n",
    "#print(soup)\n",
    "targetURL = soup.select('tbody')[1].select('td a') #提取单词链接所在的标签,是一个列表\n"
   ]
  },
  {
   "cell_type": "code",
   "execution_count": 69,
   "metadata": {},
   "outputs": [
    {
     "name": "stdout",
     "output_type": "stream",
     "text": [
      "<a href=\"http://www.kaoyan365.cn/yingyu/cihui/229313.html\" target=\"_blank\">大纲词汇(10)</a>\n",
      "<a href=\"http://www.kaoyan365.cn/yingyu/cihui/229312.html\" target=\"_blank\">大纲词汇(9)</a>\n"
     ]
    }
   ],
   "source": [
    "i = targetURL[9]\n",
    "print(targetURL[9])\n",
    "print(targetURL[8])"
   ]
  },
  {
   "cell_type": "code",
   "execution_count": 75,
   "metadata": {},
   "outputs": [
    {
     "data": {
      "text/plain": [
       "'http://www.kaoyan365.cn/yingyu/cihui/229313.html'"
      ]
     },
     "execution_count": 75,
     "metadata": {},
     "output_type": "execute_result"
    }
   ],
   "source": [
    "subURL = str(i)[9:57]\n",
    "subURL"
   ]
  },
  {
   "cell_type": "code",
   "execution_count": null,
   "metadata": {},
   "outputs": [],
   "source": [
    "subhtml = get_content(subURL)\n",
    "pattern = re.compile('<p>\\d\\d .{0,50}</p>')\n",
    "result = pattern.findall(subhtml)"
   ]
  },
  {
   "cell_type": "code",
   "execution_count": null,
   "metadata": {},
   "outputs": [],
   "source": [
    "for w in result:\n",
    "    word = w[6:-4]\n",
    "    fp.write(word+\"\\n\")\n",
    "print(\"{0} is OK\".format(Cuid))"
   ]
  },
  {
   "cell_type": "code",
   "execution_count": null,
   "metadata": {},
   "outputs": [],
   "source": []
  }
 ],
 "metadata": {
  "kernelspec": {
   "display_name": "Python 3",
   "language": "python",
   "name": "python3"
  },
  "language_info": {
   "codemirror_mode": {
    "name": "ipython",
    "version": 3
   },
   "file_extension": ".py",
   "mimetype": "text/x-python",
   "name": "python",
   "nbconvert_exporter": "python",
   "pygments_lexer": "ipython3",
   "version": "3.8.3"
  }
 },
 "nbformat": 4,
 "nbformat_minor": 4
}
