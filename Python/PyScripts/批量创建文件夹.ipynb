{
 "cells": [
  {
   "cell_type": "code",
   "execution_count": 19,
   "metadata": {},
   "outputs": [],
   "source": [
    "import os\n",
    "path = \"E:\\\\DownLoad\\\\DownLoading\\\\SPs\\\\\"\n",
    "filename_list = os.listdir(path)"
   ]
  },
  {
   "cell_type": "code",
   "execution_count": 20,
   "metadata": {},
   "outputs": [
    {
     "data": {
      "text/plain": [
       "['Asobi Asobase',\n",
       " 'Asobi Asobase SP',\n",
       " 'Azur Lane',\n",
       " 'Azur Lane SP',\n",
       " 'DownLoading',\n",
       " 'Fragtime',\n",
       " 'Glass no Hana to Kowasu Sekai',\n",
       " 'Go-Toubun no Hanayome',\n",
       " 'Guilty Crown 2011',\n",
       " 'Kaguya-sama wa Kokurasetai꞉ Tensai-tachi no Renai Zunousen',\n",
       " 'Kimetsu no Yaiba',\n",
       " 'Kimi no Suizou o Tabetai',\n",
       " 'Plastic Memories',\n",
       " 'RDG Red Data Girl',\n",
       " 'Re：Zero kara Hajimeru Isekai Seikatsu',\n",
       " 'Sayonara no Asa ni Yakusoku no Hana o Kazarou',\n",
       " 'Shuumatsu no Izetta',\n",
       " 'Sora no Aosa o Shiru Hito yo',\n",
       " 'Sounan Desuka',\n",
       " 'Sword Art Online -Ordinal Scale-',\n",
       " 'Tsuki ga Kirei']"
      ]
     },
     "execution_count": 20,
     "metadata": {},
     "output_type": "execute_result"
    }
   ],
   "source": [
    "filename_list[:21]"
   ]
  },
  {
   "cell_type": "code",
   "execution_count": 22,
   "metadata": {},
   "outputs": [],
   "source": [
    "for i in filename_list:\n",
    "    used_name = path+i\n",
    "    new_name = path+i+\"SPs\"\n",
    "    #print(new_name)\n",
    "    try:\n",
    "        os.rename(used_name,new_name)\n",
    "    except Exception as ep:\n",
    "        print(used_name+\"---False\")\n",
    "        print(ep)"
   ]
  },
  {
   "cell_type": "code",
   "execution_count": 17,
   "metadata": {},
   "outputs": [
    {
     "name": "stdout",
     "output_type": "stream",
     "text": [
      "E:\\DownLoad\\DownLoading\\SPs\\Asobi Asobase 创建成功\n",
      "E:\\DownLoad\\DownLoading\\SPs\\Azur Lane 创建成功\n",
      "E:\\DownLoad\\DownLoading\\SPs\\DownLoading 创建成功\n",
      "E:\\DownLoad\\DownLoading\\SPs\\Fragtime 目录已存在\n",
      "E:\\DownLoad\\DownLoading\\SPs\\Glass no Hana to Kowasu Sekai 目录已存在\n",
      "E:\\DownLoad\\DownLoading\\SPs\\Go-Toubun no Hanayome 目录已存在\n",
      "E:\\DownLoad\\DownLoading\\SPs\\Guilty Crown 2011 创建成功\n",
      "E:\\DownLoad\\DownLoading\\SPs\\Kaguya-sama wa Kokurasetai꞉ Tensai-tachi no Renai Zunousen 目录已存在\n",
      "E:\\DownLoad\\DownLoading\\SPs\\Kimetsu no Yaiba 目录已存在\n",
      "E:\\DownLoad\\DownLoading\\SPs\\Kimi no Suizou o Tabetai 创建成功\n",
      "E:\\DownLoad\\DownLoading\\SPs\\Plastic Memories 创建成功\n",
      "E:\\DownLoad\\DownLoading\\SPs\\RDG Red Data Girl 创建成功\n",
      "E:\\DownLoad\\DownLoading\\SPs\\Re：Zero kara Hajimeru Isekai Seikatsu 创建成功\n",
      "E:\\DownLoad\\DownLoading\\SPs\\Sayonara no Asa ni Yakusoku no Hana o Kazarou 创建成功\n",
      "E:\\DownLoad\\DownLoading\\SPs\\Shuumatsu no Izetta 创建成功\n",
      "E:\\DownLoad\\DownLoading\\SPs\\Sora no Aosa o Shiru Hito yo 创建成功\n",
      "E:\\DownLoad\\DownLoading\\SPs\\Sounan Desuka 创建成功\n",
      "E:\\DownLoad\\DownLoading\\SPs\\Sword Art Online -Ordinal Scale- 创建成功\n",
      "E:\\DownLoad\\DownLoading\\SPs\\Tsuki ga Kirei 创建成功\n",
      "E:\\DownLoad\\DownLoading\\SPs\\Yamada-kun to 7-nin no Majo 创建成功\n",
      "E:\\DownLoad\\DownLoading\\SPs\\Yuru Yuri Ten 创建成功\n"
     ]
    }
   ],
   "source": [
    "#file_dir = \"E:\\\\DownLoad\\\\DownLoading\\\\SPs\\\\\"\n",
    "for i in filename_list[:21]:\n",
    "    new_path = file_dir + i\n",
    "    if not os.path.exists(new_path):\n",
    "        # 如果不存在则创建目录\n",
    "        os.makedirs(new_path)\n",
    "        print (new_path+' 创建成功')\n",
    "    else:\n",
    "        # 如果目录存在则不创建，并提示目录已存在\n",
    "        print (new_path+' 目录已存在')\n",
    "    "
   ]
  },
  {
   "cell_type": "code",
   "execution_count": null,
   "metadata": {},
   "outputs": [],
   "source": []
  }
 ],
 "metadata": {
  "kernelspec": {
   "display_name": "Python 3",
   "language": "python",
   "name": "python3"
  },
  "language_info": {
   "codemirror_mode": {
    "name": "ipython",
    "version": 3
   },
   "file_extension": ".py",
   "mimetype": "text/x-python",
   "name": "python",
   "nbconvert_exporter": "python",
   "pygments_lexer": "ipython3",
   "version": "3.8.3"
  }
 },
 "nbformat": 4,
 "nbformat_minor": 4
}
