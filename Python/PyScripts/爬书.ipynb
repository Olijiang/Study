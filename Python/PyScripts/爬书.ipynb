{
 "cells": [
  {
   "cell_type": "code",
   "execution_count": 11,
   "metadata": {},
   "outputs": [
    {
     "name": "stdout",
     "output_type": "stream",
     "text": [
      "第一章 灵眸少年（一） Ok 0.83\n",
      "第一章 灵眸少年（二） Ok 0.81\n",
      "第一章 灵眸少年（三） Ok 1.24\n",
      "第一章 灵眸少年（四） Ok 0.84\n",
      "第二章 天梦冰蚕（一） Ok 0.82\n",
      "第二章 天梦冰蚕（二） Ok 0.87\n",
      "第二章 天梦冰蚕（三） Ok 0.83\n",
      "第二章 天梦冰蚕（四） Ok 1.23\n",
      "第三章 百万年魂环（一） Ok 0.87\n",
      "第三章 Ok 0.89\n",
      "第三章 百万年魂环（三） Ok 0.83\n"
     ]
    }
   ],
   "source": [
    "import requests, time\n",
    "from bs4 import BeautifulSoup\n",
    "header = {\"User-Agent\": \"Mozilla/5.0 (Windows NT 10.0; WOW64) AppleWebKit/537.36 (KHTML, like Gecko) Chrome/77.0.3865.120 Safari/537.36 Core/1.77.101.400 QQBrowser/10.9.4622.400\"}\n",
    "\n",
    "def getOne(url):\n",
    "    path = \"./绝世唐门.txt\"\n",
    "    try:\n",
    "        stime = time.perf_counter()\n",
    "        html = requests.get(url, headers=header)\n",
    "        html.encoding = \"utf-8\"\n",
    "        soup = BeautifulSoup(html.text, \"lxml\")\n",
    "        title = str(soup.select('.bookname h1'))[5:-6]  #章节名\n",
    "        if(title[0] != \"第\"):return False   #非章节部分\n",
    "        text = str(soup.select(\"#content\"))\n",
    "        delist = ['[<div id=\"content\"><!--go-->', '\\xa0','<!--over-->\\n</div>]']    #替换杂乱字符列表\n",
    "        for word in delist:\n",
    "            text = text.replace(word,'')\n",
    "        text = text.replace(\"<br/><br/>\",\"\\n\\r\")    #段落换行\n",
    "        with open(path, \"a+\") as f:\n",
    "            f.write('\\n')\n",
    "            f.write(title)\n",
    "            f.write(text)\n",
    "            f.write('\\n')\n",
    "        print(\"{} Ok {:0.2f}\".format(title,time.perf_counter()-stime)) #打印耗时\n",
    "        return True\n",
    "    except:\n",
    "        print(url+\"  error!\")\n",
    "        return False\n",
    "\n",
    "def main():\n",
    "    #匹配网站：https://www.xbiquwx.la/\n",
    "\n",
    "    homeurl =\"https://www.xbiquwx.la/0_580/\"\n",
    "\n",
    "    sturl = \"https://www.xbiquwx.la/0_580/278784.html\"\n",
    "\n",
    "    start = sturl.split(\"/\")[-1][:-5]   #278784\n",
    "    try:\n",
    "        n=0\n",
    "        span = 999999 #爬取章节数上限\n",
    "        html = requests.get(homeurl, headers=header)\n",
    "        html.encoding = \"utf-8\"\n",
    "        soup = BeautifulSoup(html.text, \"lxml\")\n",
    "        taglist = soup.select('dd a')   #所有章节子目录的标签\n",
    "        \n",
    "        for tag in taglist:\n",
    "            if(str(tag['href'])[:-5]<start):continue\n",
    "            Aurl = homeurl+tag['href']    #具体章节的完整路径\n",
    "            # print(Aurl)\n",
    "            if(getOne(Aurl)):n=n+1\n",
    "            if(n>span):break\n",
    "    except:\n",
    "        print(\"Get html error\")\n",
    "main()\n"
   ]
  },
  {
   "cell_type": "code",
   "execution_count": 10,
   "metadata": {},
   "outputs": [
    {
     "name": "stdout",
     "output_type": "stream",
     "text": [
      "第三章 Ok 0.00\n"
     ]
    }
   ],
   "source": []
  }
 ],
 "metadata": {
  "interpreter": {
   "hash": "b3ba2566441a7c06988d0923437866b63cedc61552a5af99d1f4fb67d367b25f"
  },
  "kernelspec": {
   "display_name": "Python 3.9.7 ('base')",
   "language": "python",
   "name": "python3"
  },
  "language_info": {
   "codemirror_mode": {
    "name": "ipython",
    "version": 3
   },
   "file_extension": ".py",
   "mimetype": "text/x-python",
   "name": "python",
   "nbconvert_exporter": "python",
   "pygments_lexer": "ipython3",
   "version": "3.9.7"
  },
  "orig_nbformat": 4
 },
 "nbformat": 4,
 "nbformat_minor": 2
}
