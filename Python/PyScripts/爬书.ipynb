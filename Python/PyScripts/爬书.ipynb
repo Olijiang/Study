{
 "cells": [
  {
   "cell_type": "code",
   "execution_count": 1,
   "metadata": {},
   "outputs": [
    {
     "name": "stdout",
     "output_type": "stream",
     "text": [
      "第一章 灵眸少年（一） Ok 0.82\n",
      "第一章 灵眸少年（二） Ok 0.79\n",
      "第一章 灵眸少年（三） Ok 0.78\n",
      "第一章 灵眸少年（四） Ok 1.06\n",
      "第二章 天梦冰蚕（一） Ok 0.79\n",
      "第二章 天梦冰蚕（二） Ok 0.79\n",
      "第二章 天梦冰蚕（三） Ok 0.83\n",
      "第二章 天梦冰蚕（四） Ok 0.80\n",
      "第三章 百万年魂环（一） Ok 0.82\n",
      "第三章 Ok 0.88\n",
      "第三章 百万年魂环（三） Ok 0.85\n",
      "第三章 百万年魂环（四） Ok 0.81\n",
      "第四章 霹雳贝贝（一） Ok 0.82\n",
      "第四章 霹雳贝贝（二） Ok 0.79\n",
      "第四章 霹雳贝贝（三） Ok 0.77\n",
      "https://www.xbiquwx.la/0_580/278801.html  error!\n",
      "第五章 初窥门径（一） Ok 0.77\n",
      "第五章 初窥门径（二） Ok 0.82\n",
      "第五章 初窥门径（三） Ok 0.79\n",
      "第五章 初窥门径（四） Ok 0.81\n",
      "第六章 斗罗大陆第一学院（一） Ok 0.81\n",
      "第六章 斗罗大陆第一学院（二） Ok 1.33\n",
      "第六章 斗罗大陆第一学院（三） Ok 0.82\n",
      "第六章 斗罗大陆第一学院（四） Ok 0.84\n",
      "第七章 新生入学（上） Ok 0.84\n",
      "第七章 新生入学（上） Ok 0.89\n",
      "第七章 新生入学（下） Ok 1.21\n",
      "第八章 怪物老师（一） Ok 0.79\n",
      "第八章 怪物老师（二） Ok 0.82\n",
      "第八章 怪物老师（三） Ok 0.79\n",
      "第八章 怪物老师（四） Ok 0.79\n",
      "第九章 光明女神蝶（一） Ok 0.87\n",
      "第九章 光明女神蝶（二） Ok 1.04\n",
      "第九章 光明女神蝶（三） Ok 0.83\n",
      "https://www.xbiquwx.la/0_580/278820.html  error!\n",
      "第十章 初涉魂导器（一） Ok 0.83\n",
      "第十章 初涉魂导器（二） Ok 0.78\n",
      "第十章 初涉魂导器（三） Ok 0.79\n",
      "第十章 初涉魂导器（四） Ok 0.92\n",
      "第十一章 最弱的班长（一） Ok 0.78\n",
      "第十一章 最弱的班长（二） Ok 0.78\n",
      "第十一章 最弱的班长（三） Ok 0.89\n",
      "第十一章 最弱的班长（四） Ok 0.82\n",
      "第十二章 徐三石与江楠楠（一） Ok 0.81\n",
      "第十二章 徐三石与江楠楠（二） Ok 1.05\n",
      "第十二章 徐三石与江楠楠（三） Ok 0.87\n",
      "第十二章 徐三石与江楠楠（四） Ok 0.93\n",
      "第十三章 玄水丹（一） Ok 0.79\n"
     ]
    }
   ],
   "source": [
    "import requests, time\n",
    "from bs4 import BeautifulSoup\n",
    "header = {\"User-Agent\": \"Mozilla/5.0 (Windows NT 10.0; WOW64) AppleWebKit/537.36 (KHTML, like Gecko) Chrome/77.0.3865.120 Safari/537.36 Core/1.77.101.400 QQBrowser/10.9.4622.400\"}\n",
    "\n",
    "def getOne(url):\n",
    "    path = \"./绝世唐门.txt\"\n",
    "    try:\n",
    "        stime = time.perf_counter()\n",
    "        html = requests.get(url, headers=header)\n",
    "        html.encoding = \"utf-8\"\n",
    "        soup = BeautifulSoup(html.text, \"lxml\")\n",
    "        title = str(soup.select('.bookname h1'))[5:-6]  #章节名\n",
    "        if(title[0] != \"第\"):return False   #非章节部分\n",
    "        text = str(soup.select(\"#content\"))\n",
    "        delist = ['[<div id=\"content\"><!--go-->', '\\xa0','<!--over-->\\n</div>]']    #替换杂乱字符列表\n",
    "        for word in delist:\n",
    "            text = text.replace(word,'')\n",
    "        text = text.replace(\"<br/><br/>\",\"\\n\\r\")    #段落换行\n",
    "        with open(path, \"a+\") as f:\n",
    "            f.write('\\n')\n",
    "            f.write(title)\n",
    "            f.write(text)\n",
    "            f.write('\\n')\n",
    "        print(\"{} Ok {:0.2f}\".format(title,time.perf_counter()-stime)) #打印耗时\n",
    "        return True\n",
    "    except:\n",
    "        print(url+\"  error!\")\n",
    "        return False\n",
    "\n",
    "def main():\n",
    "    #匹配网站：https://www.xbiquwx.la/\n",
    "\n",
    "    homeurl =\"https://www.xbiquwx.la/0_580/\"\n",
    "\n",
    "    sturl = \"https://www.xbiquwx.la/0_580/278784.html\"\n",
    "\n",
    "    start = sturl.split(\"/\")[-1][:-5]   #278784\n",
    "    try:\n",
    "        n=0\n",
    "        span = 10 #爬取章节数上限\n",
    "        html = requests.get(homeurl, headers=header)\n",
    "        html.encoding = \"utf-8\"\n",
    "        soup = BeautifulSoup(html.text, \"lxml\")\n",
    "        taglist = soup.select('dd a')   #所有章节子目录的标签\n",
    "        \n",
    "        for tag in taglist:\n",
    "            if(str(tag['href'])[:-5]<start):continue\n",
    "            Aurl = homeurl+tag['href']    #具体章节的完整路径\n",
    "            # print(Aurl)\n",
    "            if(getOne(Aurl)):n=n+1\n",
    "            if(n>span):break\n",
    "    except Exception as e:\n",
    "        print(e)\n",
    "        print(\"Get html error\")\n",
    "main()\n"
   ]
  },
  {
   "cell_type": "code",
   "execution_count": 10,
   "metadata": {},
   "outputs": [
    {
     "name": "stdout",
     "output_type": "stream",
     "text": [
      "第三章 Ok 0.00\n"
     ]
    }
   ],
   "source": []
  }
 ],
 "metadata": {
  "kernelspec": {
   "display_name": "Python 3.8.7 64-bit",
   "language": "python",
   "name": "python3"
  },
  "language_info": {
   "codemirror_mode": {
    "name": "ipython",
    "version": 3
   },
   "file_extension": ".py",
   "mimetype": "text/x-python",
   "name": "python",
   "nbconvert_exporter": "python",
   "pygments_lexer": "ipython3",
   "version": "3.8.7"
  },
  "orig_nbformat": 4,
  "vscode": {
   "interpreter": {
    "hash": "41be6942999681777e9e1b630affd146517e912d19cfe79c61565f5579c643ba"
   }
  }
 },
 "nbformat": 4,
 "nbformat_minor": 2
}
